{
 "cells": [
  {
   "cell_type": "code",
   "execution_count": 3,
   "id": "6d264e5a-34e6-4162-a350-20974fe76250",
   "metadata": {},
   "outputs": [],
   "source": [
    "# A queue is an ordered list in which insertion are done at one end(rear or back)\n",
    "# and deletion are done at other end(front)\n",
    "\n",
    "# working principle is FIFO(First In First Out)"
   ]
  },
  {
   "cell_type": "code",
   "execution_count": 7,
   "id": "62e96abc-d182-4eac-b9e9-57f66f043018",
   "metadata": {},
   "outputs": [],
   "source": [
    "# Deque is another variation of Queue\n",
    "# Deque is doubly ended queue\n",
    "# Deque is linear dsa\n",
    "# Both ends can be used for insertion and deletion\n",
    "# Some deques may support random access depending on implementation\n",
    "\n",
    " "
   ]
  },
  {
   "cell_type": "code",
   "execution_count": 5,
   "id": "cb750479-037c-4772-9d35-2b3cef988b91",
   "metadata": {},
   "outputs": [],
   "source": [
    "# Deque:= In deque \n",
    "\n",
    "# Two types :- \n",
    "\n",
    "# 1.Insertion Restricted = Insertion at only one point Deletion at both point\n",
    "# 2.Deletion Restricted = Deletion at only one point Insertion at both point\n",
    "\n",
    "# If restriction on both sides then it is called Queue because in Queue we can only insert and delete at \n",
    "# only one end point that is FIFO"
   ]
  },
  {
   "cell_type": "code",
   "execution_count": null,
   "id": "f5cd834d-561a-4e4b-acf9-d9191caf382f",
   "metadata": {},
   "outputs": [],
   "source": [
    "# Implementation of Deque\n",
    "\n",
    "# 1.using list\n",
    "# 2. By extending list class\n",
    "# 3. using doubly link list class\n",
    "# 4. By extending doubly link list class\n",
    "# 5.Using link list concept\n"
   ]
  },
  {
   "cell_type": "code",
   "execution_count": null,
   "id": "214fd923-7e51-4625-a613-807d49511562",
   "metadata": {},
   "outputs": [],
   "source": []
  }
 ],
 "metadata": {
  "kernelspec": {
   "display_name": "Python 3 (ipykernel)",
   "language": "python",
   "name": "python3"
  },
  "language_info": {
   "codemirror_mode": {
    "name": "ipython",
    "version": 3
   },
   "file_extension": ".py",
   "mimetype": "text/x-python",
   "name": "python",
   "nbconvert_exporter": "python",
   "pygments_lexer": "ipython3",
   "version": "3.10.8"
  }
 },
 "nbformat": 4,
 "nbformat_minor": 5
}
