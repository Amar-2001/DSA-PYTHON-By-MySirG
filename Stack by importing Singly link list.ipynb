{
 "cells": [
  {
   "cell_type": "code",
   "execution_count": 9,
   "id": "80e35bda-45e6-4532-981b-3d28eb5e91ba",
   "metadata": {},
   "outputs": [
    {
     "ename": "ModuleNotFoundError",
     "evalue": "No module named 'Assign3'",
     "output_type": "error",
     "traceback": [
      "\u001b[0;31m---------------------------------------------------------------------------\u001b[0m",
      "\u001b[0;31mModuleNotFoundError\u001b[0m                       Traceback (most recent call last)",
      "Cell \u001b[0;32mIn[9], line 1\u001b[0m\n\u001b[0;32m----> 1\u001b[0m \u001b[38;5;28;01mfrom\u001b[39;00m \u001b[38;5;21;01mAssign3\u001b[39;00m \u001b[38;5;28;01mimport\u001b[39;00m \u001b[38;5;241m*\u001b[39m \u001b[38;5;66;03m# import all\u001b[39;00m\n\u001b[1;32m      3\u001b[0m \u001b[38;5;28;01mclass\u001b[39;00m \u001b[38;5;21;01mStack\u001b[39;00m:\n\u001b[1;32m      5\u001b[0m     \u001b[38;5;28;01mdef\u001b[39;00m \u001b[38;5;21m_init_\u001b[39m(\u001b[38;5;28mself\u001b[39m):\n",
      "\u001b[0;31mModuleNotFoundError\u001b[0m: No module named 'Assign3'"
     ]
    }
   ],
   "source": [
    "from Assign3 import * # import all\n",
    "\n",
    "class Stack:\n",
    "   \n",
    "    def _init_(self):\n",
    "        self.mylist=SLL() # here SLL is an object of mylist class which is called inside a function\n",
    "        self.item_count=0\n",
    "       \n",
    "    def is_empty(self):\n",
    "        # return self.mylist.start==None\n",
    "        return self.mylist.is_empty() # is_empty naam ka function bana hai Singly Link list mein\n",
    "       \n",
    "    def push(self,data):\n",
    "        self.mylist.insert_at_start(data)\n",
    "        self.item_count+=1\n",
    "       \n",
    "    def pop(self):\n",
    "        if not self.is_empty():\n",
    "            self.mylist.delete_first()\n",
    "            self.item_count-=1\n",
    "           \n",
    "    def peek(self):\n",
    "        if not self.is_empty():\n",
    "            self.mylist.start.item\n",
    "           \n",
    "    def size(self):\n",
    "        return self.item_count\n",
    "       \n",
    "s1=Stack()\n",
    "s1.push(10)\n",
    "s1.push(20)\n",
    "s1.push(30)\n",
    "print(\"Top element is \",s1.peek())\n",
    "s1.pop()\n",
    "print(\"Top element is \",s1.peek())"
   ]
  },
  {
   "cell_type": "code",
   "execution_count": null,
   "id": "45ee9796-a50b-4476-b43c-daad7887b48d",
   "metadata": {},
   "outputs": [],
   "source": []
  }
 ],
 "metadata": {
  "kernelspec": {
   "display_name": "Python 3 (ipykernel)",
   "language": "python",
   "name": "python3"
  },
  "language_info": {
   "codemirror_mode": {
    "name": "ipython",
    "version": 3
   },
   "file_extension": ".py",
   "mimetype": "text/x-python",
   "name": "python",
   "nbconvert_exporter": "python",
   "pygments_lexer": "ipython3",
   "version": "3.10.8"
  }
 },
 "nbformat": 4,
 "nbformat_minor": 5
}
