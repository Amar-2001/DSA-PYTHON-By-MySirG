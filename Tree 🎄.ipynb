{
 "cells": [
  {
   "cell_type": "code",
   "execution_count": 1,
   "id": "a3c1c398-cced-430d-8268-ef854e60cd79",
   "metadata": {},
   "outputs": [],
   "source": [
    "# A tree is a finite set of one or more data items (nodes) . \n",
    "# Such that there is a special node called the root node of the tree\n",
    "# and the remaining nodes are partioned into \"n>=0\" disjoint subsets \n",
    "# each of which is itself a tree, and they are known as TREE"
   ]
  },
  {
   "cell_type": "code",
   "execution_count": 2,
   "id": "1c3fbc6b-82f7-4bd8-a38b-b3bb3f8dda96",
   "metadata": {},
   "outputs": [],
   "source": [
    "# Examples :- Family Tree and Business Employee tree\n",
    "\n",
    "# It is also called as Heirarchical data structure."
   ]
  },
  {
   "cell_type": "code",
   "execution_count": 3,
   "id": "2f3c2e9c-b1c5-4447-ab6e-57942221af56",
   "metadata": {},
   "outputs": [],
   "source": [
    "# Degree of the node :- how many nodes are directly connected to their root node.\n",
    "\n",
    "# degree of the node = higest degree of the node have such as 4 in example sourabh sir given\n",
    "# A node having 0 degree is called \"Leaf 🍃  Node or Terminated node."
   ]
  },
  {
   "cell_type": "code",
   "execution_count": 6,
   "id": "e970adca-4cf0-4872-a6a4-9cac53b4629b",
   "metadata": {},
   "outputs": [],
   "source": [
    "# Tree\n",
    "\n",
    "# 1->2,3\n",
    "# 2->4,5,6 and 3->7,8\n",
    "# 5->9\n",
    "\n",
    "# Level number:- level 0 , level 1, level 2, level 3\n",
    "# Generation :-4\n",
    "\n",
    "# * It shows parent-child relationship.\n",
    "\n",
    "# Ancestors:- above all parents and their parents\n",
    "# Descendent:- all the branch or node connected to it. \n",
    "# like for 1 root node all node is its descendent like 2,3,4,5,6,7,8,9 \n",
    "\n",
    "# Path and Branch :- path means distance from any upper node to lower node\n",
    "# (like 1 -> 2-> ->5 ->9) or 5->9 or 2->5  \n",
    "# But  branch is from upper to till last node or leaf node Ex:- 1->2->5->9 or 5->9 but not 1->2 or 2->5 Ok\n",
    "\n",
    "# * Height or depth of tree :- the level from upper to lower node of the tree\n",
    "                            # or the generation of the tree\n",
    "                              # or  the branch of the tree from root node to leaf node\n",
    "        \n",
    "# Siblings :- Having common parent node then called sibling example: 2,3 ; 4,5,6; 7,8 are siblings but not 3 and 5\n"
   ]
  },
  {
   "cell_type": "code",
   "execution_count": 7,
   "id": "ffcdf338-96ba-4f3a-8f42-d0a3173378fa",
   "metadata": {},
   "outputs": [],
   "source": [
    "# A tree with degree 2 is called Binary Tree  [ may have 1 branch ]"
   ]
  },
  {
   "cell_type": "code",
   "execution_count": null,
   "id": "7e95295b-c17e-485d-b82c-46d643df20d9",
   "metadata": {},
   "outputs": [],
   "source": []
  }
 ],
 "metadata": {
  "kernelspec": {
   "display_name": "Python 3 (ipykernel)",
   "language": "python",
   "name": "python3"
  },
  "language_info": {
   "codemirror_mode": {
    "name": "ipython",
    "version": 3
   },
   "file_extension": ".py",
   "mimetype": "text/x-python",
   "name": "python",
   "nbconvert_exporter": "python",
   "pygments_lexer": "ipython3",
   "version": "3.10.8"
  }
 },
 "nbformat": 4,
 "nbformat_minor": 5
}
