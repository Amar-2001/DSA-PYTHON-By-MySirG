{
 "cells": [
  {
   "cell_type": "code",
   "execution_count": 14,
   "id": "879508d9-d56c-498f-af5a-af1951c0e026",
   "metadata": {},
   "outputs": [],
   "source": [
    "# Python :- dynamically typed language , also javascript, php \n",
    "            # whereas C,C++,Java static typed language\n",
    "    # but dynamically type language slow because isme baad mein check\n",
    "    # karta hai ki value kis type ka hai so time take\n",
    "\n",
    "# Linked list:-\n",
    "# what is list\n",
    "# what is node\n",
    "# Defining a node\n",
    "# Singly link list\n",
    "# Elementary operation"
   ]
  },
  {
   "cell_type": "code",
   "execution_count": 15,
   "id": "7e5a13f8-ae00-42ad-92a6-309b0b4e7980",
   "metadata": {},
   "outputs": [],
   "source": [
    "# list:- list is a linear collection of data items\n",
    "         # also known as List item\n",
    "    \n",
    "    # Example 1 :- saman ka list, family ka list barati mein\n",
    "    # forget about list defintion in computer terms remember in life terms\n",
    "    \n",
    "    # Example 2:- list  of marks ( 30, 32, 20, 35 ,41 ,38)\n",
    "                # means size of list is not fixed jaise jaise test de rahe list badh raha\n",
    "      \n",
    "    # Example 3:- \"Bhopal\",\"Indore\", \"Delhi\", \"Jaipur\",\"Kanpur\", \"Dehradun\" , \"Mumbai\", \"Riwa\"\n",
    "    \n",
    "    # Example 3 :- list of employees\n",
    "                 # Employee Id, name, salary\n",
    "                    # 100, \"Atul\", 35000\n",
    "                    # 101, \"Savita\",4000\n",
    "                    # 102, \"Jenil\",50000\n",
    "                # type(Int,string, int/float)\n"
   ]
  },
  {
   "cell_type": "code",
   "execution_count": 16,
   "id": "5c5d9db3-3285-434a-ad18-53a31741a59a",
   "metadata": {},
   "outputs": [],
   "source": [
    "# What is a node\n",
    "\n",
    "    # Example 2:- list  of marks ( 30, 32, 20, 35 ,41 ,38)\n",
    "    \n",
    "    # x=30, y=32, p=20 etc.... but not good method\n",
    "    \n",
    "    # item in array 30,32, 20 etc but not effective\n",
    "    \n",
    "    # **************************************\n",
    "    #  start/head -> item next -> item next -> item next..\n",
    "    # *****************************************\n",
    "    # All are of node type class but first wala start(SLL) and last wala null\n",
    "    \n",
    "    # reference se pata chalta hai ki kaun node 1st hai kaun 2nd ..\n",
    "    \n",
    "    \n",
    "    # class Node:\n",
    "         \n",
    "    "
   ]
  },
  {
   "cell_type": "code",
   "execution_count": 17,
   "id": "fb552a25-fb34-483a-92e8-84d4668096e1",
   "metadata": {},
   "outputs": [
    {
     "ename": "IndentationError",
     "evalue": "unexpected indent (1869501511.py, line 3)",
     "output_type": "error",
     "traceback": [
      "\u001b[0;36m  Cell \u001b[0;32mIn[17], line 3\u001b[0;36m\u001b[0m\n\u001b[0;31m    def __init__(self, item=None, next=None):\u001b[0m\n\u001b[0m    ^\u001b[0m\n\u001b[0;31mIndentationError\u001b[0m\u001b[0;31m:\u001b[0m unexpected indent\n"
     ]
    }
   ],
   "source": [
    "# Defining a node\n",
    "\n",
    "  def __init__(self, item=None, next=None):\n",
    "        self.item=item\n",
    "        slef.next=next"
   ]
  },
  {
   "cell_type": "code",
   "execution_count": 18,
   "id": "55d8d5a3-936f-4697-8a71-d739ac2e4a24",
   "metadata": {},
   "outputs": [],
   "source": [
    "# What is singly link list\n",
    "\n",
    "# SLL is a linear data structure which\n",
    "# It can grow and shrink .\n",
    "\n"
   ]
  },
  {
   "cell_type": "code",
   "execution_count": 19,
   "id": "61004a45-3c65-48f5-93ad-407dd93c40ef",
   "metadata": {},
   "outputs": [],
   "source": [
    "# OPerations on Singly link list\n",
    "\n",
    "# 1.Insertion :- Insert at start, last, after particular node\n",
    "                 \n",
    "    # Code        # Obj=SLL()\n",
    "                 # obj.insert_at_start(10)\n",
    "                 # obj.insert_at_last(30)\n",
    "                 # obj.insert_after_node(50)\n",
    "                \n",
    "                \n",
    "\n",
    "# 2.Deletion :- Delete first, Delete last, Delete after node\n",
    "            # In C,C++,Java  free(), delete function to manage memory\n",
    "            # But in Python memory mangement automatic\n",
    "        \n",
    "        \n",
    "        # Code    obj=SLL()\n",
    "                  # obj.delete_first()\n",
    "        \n",
    "# 3.Traversing"
   ]
  },
  {
   "cell_type": "code",
   "execution_count": null,
   "id": "bdc5cf4b-7e63-434a-b787-0bfed2c65f49",
   "metadata": {},
   "outputs": [],
   "source": []
  },
  {
   "cell_type": "code",
   "execution_count": null,
   "id": "14292b13-c96a-4d47-9f27-deb2d1ce7192",
   "metadata": {},
   "outputs": [],
   "source": []
  }
 ],
 "metadata": {
  "kernelspec": {
   "display_name": "Python 3 (ipykernel)",
   "language": "python",
   "name": "python3"
  },
  "language_info": {
   "codemirror_mode": {
    "name": "ipython",
    "version": 3
   },
   "file_extension": ".py",
   "mimetype": "text/x-python",
   "name": "python",
   "nbconvert_exporter": "python",
   "pygments_lexer": "ipython3",
   "version": "3.10.8"
  }
 },
 "nbformat": 4,
 "nbformat_minor": 5
}
