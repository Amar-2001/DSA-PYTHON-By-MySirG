{
 "cells": [
  {
   "cell_type": "code",
   "execution_count": 2,
   "id": "48409585-445a-4ae9-87b7-1e82f53482ef",
   "metadata": {},
   "outputs": [],
   "source": [
    "class Graph:\n",
    "    def __init__(self,vno):\n",
    "        self.vertex_count=vno\n",
    "        self.adj_list={v:[] for v in range(vno)} # dictionary where \"v\" is key and \"[]\" is value in list form\n",
    "        \n",
    "    def add_edge(self,u,v,weight=1):\n",
    "        if 0<=u<self.vertex_count and 0<=v<self.vertex_count:\n",
    "            self.adj_list[v].append( (v,weight) ) # list \"v\" ke andar append kar diye tuple \"v , weight \"\n",
    "            self.adj_list[u].append( (u,weight) ) # list \"u\" ke andar append kar diye tuple u, weight\"\n",
    "        else: \n",
    "            print(\"Invalid Vertices\")\n",
    "            "
   ]
  },
  {
   "cell_type": "code",
   "execution_count": 7,
   "id": "6db2d6a8-9bb1-4075-9200-1d0efc0e76f2",
   "metadata": {},
   "outputs": [
    {
     "name": "stdout",
     "output_type": "stream",
     "text": [
      "V 0  :  [(1, 1)]\n",
      "V 1  :  [(0, 1), (2, 1), (3, 1)]\n",
      "V 2  :  [(1, 1), (4, 1)]\n",
      "V 3  :  [(1, 1), (4, 1)]\n",
      "V 4  :  [(2, 1), (3, 1)]\n"
     ]
    }
   ],
   "source": [
    "class Graph:\n",
    "    def __init__(self,vno):\n",
    "        self.vertex_count=vno\n",
    "        self.adj_list={v:[] for v in range(vno)} # dictionary where \"v\" is key and \"[]\" is value in list form\n",
    "        \n",
    "    def add_edge(self,u,v,weight=1):\n",
    "        if 0<=u<self.vertex_count and 0<=v<self.vertex_count:\n",
    "            self.adj_list[u].append( (v,weight) ) # list \"v\" ke andar append kar diye tuple \"v , weight \"\n",
    "            self.adj_list[v].append( (u,weight) ) # list \"u\" ke andar append kar diye tuple u, weight\"\n",
    "        else: \n",
    "            print(\"Invalid Vertices\")\n",
    "          \n",
    "    def remove_edge(self,u,v):\n",
    "        if 0<=u<self.vertex_count and 0<=v<self.vertex_count:\n",
    "            self.adj_list[u]=[ (vertex,weight) for vertex,weight in self.adj_list(u) if vertex != v ]\n",
    "            self.adj_list[v]=[ (vertex,weight) for vertex,weight in self.adj_list(v) if vertex != u ]\n",
    "    # list ke andar bahut sare tuples hai, usme se ek tuple hatana hai , jis edge ko remove karna chahte ho\n",
    "    # uska u aur v de diye, for example u=0, v=1 de diye, toh v=0 wala jo list hoga dictionary ke andar,\n",
    "    # usme wahi tuple hataoge jisme vertex 1 hai baaki nahi hataoge\n",
    "    # so here list u mein sare tuple le liye expect v in first line\n",
    "    \n",
    "    def has_edge(self,u,v): # ex:- (1,3) v1 se v3 ke beech edge hai ya nahi\n",
    "        if 0<=u<self.vertex_count and 0<=v<vertex_count:\n",
    "            return any( vertex == v for vertex,x in self.adj_list[u])\n",
    "        else:\n",
    "            print(\"Invalid Vertices\")\n",
    "            return False\n",
    "    # agar hum check karna chahte ki 1,3 ke beech mein koi edge hai toh \n",
    "    # vertex ke value == 3 hai ya nahi by for loop( vertex aur x in adj_list[u] \n",
    "    # Here u(row) work as key means iske corresponding jo element hai wo dikhe \n",
    "    # so basically list se jo element nikal raha wo tuple hai aur tuple mein do value hai \n",
    "    # pehla jayegea \"vertx\" mein dusra jayega \"x\" mein [HINT: x se koi matlab nahi sirf vertex se hai\n",
    "                                                        # x element ko unpacking ke liye hai \n",
    "    # Ab baari baari se value aayegi(unpack hogi) aur check karegi ki \"vertex\" == 3 hai ya nahi \n",
    "    # ek bhi true hone par any function return karta hai true otherwise return false\n",
    "    \n",
    "    def print_adj_list(self):\n",
    "        for vertex,n in self.adj_list.items():\n",
    "            print(\"V\",vertex, \" : \",n) # vertex aur n(list of tuples)\n",
    " # dictionary ke andar ek ek list hai usko print karana hoga\n",
    " # vertex aur uske neighbour \"n\"(list of tuples) then adj_list jo ki ek dictinary \n",
    "# aur dictionary ke andar ek function hotahai \".items()\" jo return karta hai list of items  \n",
    " # items ke andar do chiz hai ek vertex aur ek list Here key aayegi \"vertex\" mein aur list ayegi  \"n\" mein\n",
    "\n",
    "            \n",
    "graph=Graph(5) # 5 vertex wala graph\n",
    "graph.add_edge(0,1)\n",
    "graph.add_edge(1,2)\n",
    "graph.add_edge(1,3)\n",
    "graph.add_edge(2,4)\n",
    "graph.add_edge(3,4)\n",
    "graph.print_adj_list()\n",
    "    \n",
    "# ouptut: v0 : [ (1,1) ] means v0 se v1 tak jaa sakte hai\n",
    "        # v1 : [ (0,1), (2,1), (3,1) ] means v1 se v0 , v2 aur v3 par jaa sakte \n",
    "# [ HINT : =  Ignore 1 in 2nd position of tuple inside list]"
   ]
  },
  {
   "cell_type": "code",
   "execution_count": null,
   "id": "c76abf47-6cd5-4866-867b-17c253c524fd",
   "metadata": {},
   "outputs": [],
   "source": []
  }
 ],
 "metadata": {
  "kernelspec": {
   "display_name": "Python 3 (ipykernel)",
   "language": "python",
   "name": "python3"
  },
  "language_info": {
   "codemirror_mode": {
    "name": "ipython",
    "version": 3
   },
   "file_extension": ".py",
   "mimetype": "text/x-python",
   "name": "python",
   "nbconvert_exporter": "python",
   "pygments_lexer": "ipython3",
   "version": "3.10.8"
  }
 },
 "nbformat": 4,
 "nbformat_minor": 5
}
