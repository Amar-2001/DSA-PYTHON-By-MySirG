{
 "cells": [
  {
   "cell_type": "code",
   "execution_count": 1,
   "id": "0bc75bf5-58f0-4029-851c-e3d780662fa8",
   "metadata": {},
   "outputs": [],
   "source": [
    "# AGENDA \n",
    "\n",
    "# 1. Traversing Graph\n",
    "# 2. BFS \n",
    "# 3. Logic for BFS\n",
    "# 4. Example \n",
    "# 5. DFS \n",
    "# 6. Logic for DFS\n",
    "# 7. Example\n",
    "\n",
    "# Traversing :- Visiting all nodes of graph\n",
    "\n",
    "# There are two types of traversing : 1. BFS(Breadth first search)\n",
    "#                                     2. DFS(Depht First Search)\n",
    "\n",
    "    \n",
    "# BFS :- Traversing graph may have only issue that graph may have a cycle , You may revisit a node.\n",
    "\n",
    "# To avoid processing a node more thatn once, we divided the vertices into two categories:-\n",
    "#                 1.Visited \n",
    "#                 2.Not Visited\n",
    "        \n",
    "# A boolean visited array is used to \"Mark\" the visited vertices.\n",
    "\n",
    "# BFS(Breadth First Search) uses Queue data structure for traversal\n",
    "# Traversing begin from node is called Source Node.\n",
    "\n"
   ]
  },
  {
   "cell_type": "code",
   "execution_count": 2,
   "id": "c65f914f-f8ae-48fa-a92e-6913ce92110f",
   "metadata": {},
   "outputs": [],
   "source": [
    "# Let Q be the Queue  # ek Queeue le lo\n",
    "# Q.insert(s) # Q mein insert Source(jaha se shuru ho raha node)\n",
    "# v[s]=True # starting node mein true\n",
    "# while (! Q.is_empty() ): # jab tak list empty nahi ho jata tab tak ( sabme true karne ke liye)\n",
    "#     n=Q.getFront()  # n mein first element rakho\n",
    "#     Q.delete() # Q se delete karo elemnt \n",
    "#     for all neighbour u of n:  # n ka sara neighbour yaani first v0 then v1 then v2 ...\n",
    "#         if v[u]==False: # agar v[0] then  v[1] then ... flase raha toh \n",
    "#             Q.insert(u)  # Q mein insert (u) ko\n",
    "#             v[u]=True # usko tick kar do\n",
    "            \n",
    "    \n",
    "# Its name is BFS because ye pehle level 0 ko nikalta then level 2 then level 3 ....\n",
    "# level decide hota wo source node se kitan node aage hai iss se"
   ]
  },
  {
   "cell_type": "code",
   "execution_count": 5,
   "id": "2cdad687-cc58-4ce6-917f-f7464e1aba92",
   "metadata": {},
   "outputs": [],
   "source": [
    "# Let Stack be stack:\n",
    "#     stack .push()\n",
    "#     v[s]=True \n",
    "#     while (! stack.is_empty() ):\n",
    "#         n=stack.peek()\n",
    "#         stack.pop()\n",
    "#         for all neighbour u of n :\n",
    "#             if v[u] == False:\n",
    "#                 stack .push(u)\n",
    "#                 v[u]=True\n",
    "\n",
    "# Same as BSF but here Stack is used \n",
    "\n",
    "# v0 Level 0\n",
    "# v2 level 1\n",
    "# v4 Level 2\n",
    "# v5 Level 3\n",
    "# v3 Level 2\n",
    "# v1 Level 1 \n",
    "# Thats why is is called DFS\n"
   ]
  },
  {
   "cell_type": "code",
   "execution_count": null,
   "id": "f7d78cb5-d6c1-4b2c-a09d-4c2c45545e19",
   "metadata": {},
   "outputs": [],
   "source": []
  }
 ],
 "metadata": {
  "kernelspec": {
   "display_name": "Python 3 (ipykernel)",
   "language": "python",
   "name": "python3"
  },
  "language_info": {
   "codemirror_mode": {
    "name": "ipython",
    "version": 3
   },
   "file_extension": ".py",
   "mimetype": "text/x-python",
   "name": "python",
   "nbconvert_exporter": "python",
   "pygments_lexer": "ipython3",
   "version": "3.10.8"
  }
 },
 "nbformat": 4,
 "nbformat_minor": 5
}
