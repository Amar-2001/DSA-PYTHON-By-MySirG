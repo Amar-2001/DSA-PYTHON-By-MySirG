{
 "cells": [
  {
   "cell_type": "code",
   "execution_count": 1,
   "id": "fe423224-7239-41e7-8f35-5b5d6ed46680",
   "metadata": {},
   "outputs": [
    {
     "ename": "SyntaxError",
     "evalue": "incomplete input (3335182322.py, line 3)",
     "output_type": "error",
     "traceback": [
      "\u001b[0;36m  Cell \u001b[0;32mIn[1], line 3\u001b[0;36m\u001b[0m\n\u001b[0;31m    class Stack(list):\u001b[0m\n\u001b[0m                      ^\u001b[0m\n\u001b[0;31mSyntaxError\u001b[0m\u001b[0;31m:\u001b[0m incomplete input\n"
     ]
    }
   ],
   "source": [
    "# 1.Define a class stack by extending list class\n",
    "\n",
    "class Stack(list):\n",
    "    "
   ]
  },
  {
   "cell_type": "code",
   "execution_count": 2,
   "id": "23a1a84d-ad0e-494b-993c-24d27d17ee93",
   "metadata": {},
   "outputs": [],
   "source": [
    "# 2. is_empty()\n",
    "\n",
    "class Stack(list):\n",
    "    def is_empty(self):\n",
    "        return len(self)==0"
   ]
  },
  {
   "cell_type": "code",
   "execution_count": 3,
   "id": "6630b7eb-0c6f-4b27-99fe-b16cbded28d7",
   "metadata": {},
   "outputs": [],
   "source": [
    "# 3. push\n",
    "\n",
    "class Stack(list):\n",
    "    def is_empty(self):\n",
    "        return len(self)==0\n",
    "    \n",
    "    # solution here\n",
    "    def push(self,data):\n",
    "        self.append(data)"
   ]
  },
  {
   "cell_type": "code",
   "execution_count": 6,
   "id": "784dcfe9-a6a1-4dc0-b1ca-2fef93deb3e6",
   "metadata": {},
   "outputs": [],
   "source": [
    "# 4.pop\n",
    "\n",
    "class Stack(list):\n",
    "    def is_empty(self):\n",
    "        return len(self)==0\n",
    "    \n",
    "    def push(self,data):\n",
    "        self.append(data)\n",
    "        \n",
    "    # solution here\n",
    "    def pop(self):\n",
    "        if not self.is_empty():\n",
    "            # return self.pop() # Function khud ko call kar lega that's why use super \n",
    "            return super.pop()\n",
    "        else:\n",
    "            raise IndexError(\"STack is empty\")"
   ]
  },
  {
   "cell_type": "code",
   "execution_count": 7,
   "id": "af359a42-b0d2-4262-bd0c-9c16eccce9e9",
   "metadata": {},
   "outputs": [],
   "source": [
    "# peek\n",
    "\n",
    "class Stack(list):\n",
    "    def is_empty(self):\n",
    "        return len(self)==0\n",
    "    \n",
    "    def push(self,data):\n",
    "        self.append(data)\n",
    "        \n",
    "    def pop(self):\n",
    "        if not self.is_empty():\n",
    "            # return self.pop() # Function khud ko call kar lega that's why use super \n",
    "            return super.pop()\n",
    "        else:\n",
    "            raise IndexError(\"STack is empty\")\n",
    "      \n",
    "    # solution here\n",
    "    def peek(self):\n",
    "        if not self.is_empty():\n",
    "            return self[-1]\n",
    "        else:\n",
    "            raise IndexError(\"Stack is empty\")\n",
    "        \n",
    "            "
   ]
  },
  {
   "cell_type": "code",
   "execution_count": 21,
   "id": "7bca9c24-93d3-45bd-823f-cb766be86990",
   "metadata": {},
   "outputs": [],
   "source": [
    "# Size\n",
    "\n",
    "class Stack(list):\n",
    "    def is_empty(self):\n",
    "        return len(self)==0\n",
    "    \n",
    "    def push(self,data):\n",
    "        self.append(data)\n",
    "        \n",
    "    def pop(self):\n",
    "        if not self.is_empty():\n",
    "            # return self.pop() # Function khud ko call kar lega that's why use super \n",
    "            return super().pop()\n",
    "        else:\n",
    "            raise IndexError(\"STack is empty\")\n",
    "      \n",
    "    def peek(self):\n",
    "        if not self.is_empty():\n",
    "            return self[-1]\n",
    "        else:\n",
    "            raise IndexError(\"Stack is empty\")\n",
    "            \n",
    "    # solution here\n",
    "    def size(self):\n",
    "            return len(self)\n",
    "      \n",
    "            "
   ]
  },
  {
   "cell_type": "code",
   "execution_count": 35,
   "id": "30af28db-cc79-4554-91ed-0575b0c9bb1a",
   "metadata": {},
   "outputs": [
    {
     "name": "stdout",
     "output_type": "stream",
     "text": [
      "Top element is  10\n",
      "Top element is  20\n",
      "Top element is  30\n",
      "After pop Top element is  20\n",
      "AFter push Top element is  40\n",
      "After pop Top element is  20\n"
     ]
    },
    {
     "ename": "AttributeError",
     "evalue": " No Attribute 'insert' in stack",
     "output_type": "error",
     "traceback": [
      "\u001b[0;31m---------------------------------------------------------------------------\u001b[0m",
      "\u001b[0;31mAttributeError\u001b[0m                            Traceback (most recent call last)",
      "Cell \u001b[0;32mIn[35], line 60\u001b[0m\n\u001b[1;32m     58\u001b[0m s1\u001b[38;5;241m.\u001b[39mpop()\n\u001b[1;32m     59\u001b[0m \u001b[38;5;28mprint\u001b[39m(\u001b[38;5;124m\"\u001b[39m\u001b[38;5;124mAfter pop Top element is \u001b[39m\u001b[38;5;124m\"\u001b[39m,s1\u001b[38;5;241m.\u001b[39mpeek())\u001b[38;5;66;03m# because 10 20 30  then 30 ko pop kiye so 10 20 then 40 push\u001b[39;00m\n\u001b[0;32m---> 60\u001b[0m \u001b[43ms1\u001b[49m\u001b[38;5;241;43m.\u001b[39;49m\u001b[43minsert\u001b[49m\u001b[43m(\u001b[49m\u001b[38;5;241;43m0\u001b[39;49m\u001b[43m,\u001b[49m\u001b[38;5;241;43m8\u001b[39;49m\u001b[43m)\u001b[49m                                              \u001b[38;5;66;03m# so 10 20 40 then we again pop 40 so peek element is 20 Ok\u001b[39;00m\n",
      "Cell \u001b[0;32mIn[35], line 44\u001b[0m, in \u001b[0;36mStack.insert\u001b[0;34m(self, index, data)\u001b[0m\n\u001b[1;32m     43\u001b[0m \u001b[38;5;28;01mdef\u001b[39;00m \u001b[38;5;21minsert\u001b[39m(\u001b[38;5;28mself\u001b[39m,index,data):\n\u001b[0;32m---> 44\u001b[0m     \u001b[38;5;28;01mraise\u001b[39;00m \u001b[38;5;167;01mAttributeError\u001b[39;00m(\u001b[38;5;124m\"\u001b[39m\u001b[38;5;124m No Attribute \u001b[39m\u001b[38;5;124m'\u001b[39m\u001b[38;5;124minsert\u001b[39m\u001b[38;5;124m'\u001b[39m\u001b[38;5;124m in stack\u001b[39m\u001b[38;5;124m\"\u001b[39m)\n",
      "\u001b[0;31mAttributeError\u001b[0m:  No Attribute 'insert' in stack"
     ]
    }
   ],
   "source": [
    "# Implement a way to restrict use of insert() method of list from stack class\n",
    "\n",
    "class Stack(list): # stack(child class) inherit list(parent class)\n",
    "     # def __init__(self):\n",
    "     #    self.item=[]    # no use of this here becuase ye list class se already le raha aur yaha kahi bhi\n",
    "                         # item ka use  nahi hoga \n",
    "    def is_empty(self):\n",
    "        return len(self)==0 # stack ka object list ka bhi toh object hoga because \"list\" parent class hai \n",
    "                            # stack ki so len(self)==0 instead of len(self.item)==0\n",
    "                            # self stack ka object hoga aur stack list ki child class hai\\\n",
    "                            # self stack ka object hai isliye \"self\" \".\" lagakar stack class aur list class\n",
    "                            # dono ke member ko access kar sakta\n",
    "    \n",
    "    def push(self,data):\n",
    "        self.append(data)\n",
    "        \n",
    "    def pop(self):\n",
    "        if not self.is_empty():\n",
    "            # return self.pop() # Function khud ko call kar lega infinite times that's why use super \n",
    "                                # infinte recursion becuase list mein pop function hota hai aur yaha\n",
    "                                # list parent class hai toh parent class mein jo pop() hai wo yaha \n",
    "                                # def pop() hai uske andar jo pop() hai wo usko override kar raha \n",
    "                                # method overriding concept in OOPs so \n",
    "                                # agar hum pop() ko call bhi karenge toh ye stack class ke def pop() ko\n",
    "                                # hi call karega(ya preference dega) because of overriding \n",
    "                                # but hum chahte ki parent class(yaani list) wala pop method chale\n",
    "                                # toh iske liye super() use karo\n",
    "                             # (error): maximum recursion depth exceeded while calling a Python object\n",
    "            return super().pop()\n",
    "        else:\n",
    "            raise IndexError(\"STack is empty\")\n",
    "      \n",
    "    def peek(self):\n",
    "        if not self.is_empty():\n",
    "            return self[-1]\n",
    "        else:\n",
    "            raise IndexError(\"Stack is empty\")\n",
    "            \n",
    "    def size(self):\n",
    "            return len(self)\n",
    "        \n",
    "     # solution here\n",
    "    def insert(self,index,data):\n",
    "        raise AttributeError(\" No Attribute 'insert' in stack\")\n",
    "    \n",
    "s1=Stack()\n",
    "# s1.insert(10,0)\n",
    "s1.push(10)\n",
    "print(\"Top element is \",s1.peek())\n",
    "s1.push(20)\n",
    "print(\"Top element is \",s1.peek())\n",
    "s1.push(30)\n",
    "print(\"Top element is \",s1.peek())\n",
    "s1.pop()\n",
    "print(\"After pop Top element is \",s1.peek())\n",
    "s1.push(40)\n",
    "print(\"AFter push Top element is \",s1.peek())\n",
    "s1.pop()\n",
    "print(\"After pop Top element is \",s1.peek())# because 10 20 30  then 30 ko pop kiye so 10 20 then 40 push\n",
    "s1.insert(0,8)                                              # so 10 20 40 then we again pop 40 so peek element is 20 Ok\n",
    "        "
   ]
  },
  {
   "cell_type": "code",
   "execution_count": null,
   "id": "bdfb893f-46f4-4d83-930e-1ef93865d6f9",
   "metadata": {},
   "outputs": [],
   "source": []
  }
 ],
 "metadata": {
  "kernelspec": {
   "display_name": "Python 3 (ipykernel)",
   "language": "python",
   "name": "python3"
  },
  "language_info": {
   "codemirror_mode": {
    "name": "ipython",
    "version": 3
   },
   "file_extension": ".py",
   "mimetype": "text/x-python",
   "name": "python",
   "nbconvert_exporter": "python",
   "pygments_lexer": "ipython3",
   "version": "3.10.8"
  }
 },
 "nbformat": 4,
 "nbformat_minor": 5
}
