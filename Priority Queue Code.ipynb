{
 "cells": [
  {
   "cell_type": "code",
   "execution_count": 19,
   "id": "05fa106e-db1b-44b3-b05c-8ff58f296900",
   "metadata": {},
   "outputs": [
    {
     "name": "stdout",
     "output_type": "stream",
     "text": [
      "(8, 1)\n",
      "(12, 2) (9, 3) (10, 5) (19, 8) (17, 1) (18, 2) (13, 4) "
     ]
    }
   ],
   "source": [
    "class PriorityQueue:\n",
    "    def __init__(self):\n",
    "        self.items=[]\n",
    "        \n",
    "    def push(self,data,priority):\n",
    "        index=0\n",
    "        \n",
    "        # while loop mein list ke andar tuple hai tuple ke andar data aur priority no. hai \n",
    "        # toh tuple ke andar se index 1 par rakhe items ko nikalna isliye [1] likha hai \n",
    "        while index<len(self.items) and self.items[index][1]<=priority: # 0<length of items \n",
    "         # whatever items length may be 0<5 1<5 2<5 ... because index length increase by 1 each times\n",
    "                            # and wala ab := items{index][1]<=priority means items ka index ka [1] priority\n",
    "                            # se kam ho tab\n",
    "    # yaha items list ke [index] ke tuple ke andar ka index[1]yaani priority number because \n",
    "    # list mein multiple tuple hai tuple mein do chiz hai data aur priority no.\n",
    "    # toh  yaha hum priority number se compare kar rahe \n",
    "    # for example :- [ (10,2),(20,4),(60,6),(90,10)]\n",
    "    # here list  which has many tuples , inside tuple data and priority number\n",
    "    # we want to insert (30,5)  so it will insert in between (20,4) and (60,6)\n",
    "    \n",
    "            index+=1\n",
    "        self.items.insert(index,(data,priority)) # insert do argument leta hai  (index,data)\n",
    "                                                # here also 2 data (index,(data,priority))\n",
    "        \n",
    "    def is_empty(self):\n",
    "        return len(self.items)==0\n",
    "    \n",
    "    def pop(self):\n",
    "        if self.is_empty():\n",
    "            return indexError(\"Priority Queue is empty\")\n",
    "        else:\n",
    "            return self.items.pop(0) # pop(0) yaani delete 0 index element of list \n",
    "                                    # but pop(0)[0] will give data value which is poped or deleted \n",
    "                                    # and it is returned by return keyword\n",
    "    \n",
    "    def size(self):\n",
    "        return len(self.items)\n",
    "    \n",
    "p1=PriorityQueue()\n",
    "p1.push(10,5)\n",
    "p1.push(12,2)\n",
    "p1.push(8,1)\n",
    "p1.push(9,3)\n",
    "p1.push(19,8)\n",
    "\n",
    "print(p1.pop()) # it will print 1 element which is first element becuase that has more priority \n",
    "\n",
    "while not p1.is_empty():\n",
    "    print(p1.pop(),end=\" \")\n",
    "\n",
    "\n",
    "p1.push(18,2)\n",
    "p1.push(17,1)\n",
    "p1.push(13,4)\n",
    "while not p1.is_empty():\n",
    "    print(p1.pop(),end=\" \")\n"
   ]
  },
  {
   "cell_type": "code",
   "execution_count": 20,
   "id": "32c96c92-25b9-41c1-bddb-fe51d4c4605d",
   "metadata": {},
   "outputs": [
    {
     "name": "stdout",
     "output_type": "stream",
     "text": [
      "8\n",
      "12 9 10 19 17 18 13 "
     ]
    }
   ],
   "source": [
    "class PriorityQueue:\n",
    "    def __init__(self):\n",
    "        self.items=[]\n",
    "        \n",
    "    def push(self,data,priority):\n",
    "        index=0\n",
    "        while index<len(self.items) and self.items[index][1]<=priority:\n",
    "            index+=1\n",
    "        self.items.insert(index,(data,priority))\n",
    "        \n",
    "    def is_empty(self):\n",
    "        return len(self.items)==0\n",
    "    \n",
    "    def pop(self):\n",
    "        if self.is_empty():\n",
    "            return indexError(\"Priority Queue is empty\")\n",
    "        else:\n",
    "            return self.items.pop(0)[0] # pop(0) yaani delete 0 index element of list \n",
    "                                    # but pop(0)[0] will give data value which is poped or deleted \n",
    "                                    # and it is returned by return keyword\n",
    "         # while loop mein list ke andar tuple hai tuple ke andar data aur priority no. hai \n",
    "        # toh tuple ke andar se index 1 par rakhe items ko nikalna isliye [1] likha hai \n",
    "    \n",
    "    def size(self):\n",
    "        return len(self.items)\n",
    "    \n",
    "p1=PriorityQueue()\n",
    "p1.push(10,5)\n",
    "p1.push(12,2)\n",
    "p1.push(8,1)\n",
    "p1.push(9,3)\n",
    "p1.push(19,8)\n",
    "\n",
    "print(p1.pop()) # it will print 1 element which is first element becuase that has more priority \n",
    "\n",
    "while not p1.is_empty():\n",
    "    print(p1.pop(),end=\" \")\n",
    "\n",
    "\n",
    "p1.push(18,2)\n",
    "p1.push(17,1)\n",
    "p1.push(13,4)\n",
    "while not p1.is_empty():\n",
    "    print(p1.pop(),end=\" \")\n"
   ]
  },
  {
   "cell_type": "code",
   "execution_count": 13,
   "id": "f3fb8b70-5bde-46d9-ac6f-b7679cdda639",
   "metadata": {},
   "outputs": [
    {
     "name": "stdout",
     "output_type": "stream",
     "text": [
      "8\n",
      "12 9 10 19 \n",
      "17 18 13 "
     ]
    }
   ],
   "source": [
    "class PriorityQueue:\n",
    "    def __init__(self):\n",
    "        self.items=[]\n",
    "        \n",
    "    def push(self,data,priority):\n",
    "        index=0\n",
    "        while index<len(self.items) and self.items[index][1]<=priority:\n",
    "            index+=1\n",
    "        self.items.insert(index,(data,priority))\n",
    "        \n",
    "    def is_empty(self):\n",
    "        return len(self.items)==0\n",
    "    \n",
    "    def pop(self):\n",
    "        if self.is_empty():\n",
    "            return indexError(\"Priority Queue is empty\")\n",
    "        else:\n",
    "            return self.items.pop(0)[0]\n",
    "    \n",
    "    def size(self):\n",
    "        return len(self.items)\n",
    "    \n",
    "p1=PriorityQueue()\n",
    "p1.push(10,5)\n",
    "p1.push(12,2)\n",
    "p1.push(8,1)\n",
    "p1.push(9,3)\n",
    "p1.push(19,8)\n",
    "\n",
    "print(p1.pop()) # it will print 1 element which is first element becuase that has more priority \n",
    "\n",
    "while not p1.is_empty():\n",
    "    print(p1.pop(),end=\" \")\n",
    "    \n",
    "print()\n",
    "\n",
    "p1.push(18,2)\n",
    "p1.push(17,1)\n",
    "p1.push(13,5)\n",
    "while not p1.is_empty():\n",
    "    print(p1.pop(),end=\" \")\n"
   ]
  },
  {
   "cell_type": "code",
   "execution_count": null,
   "id": "dcd6049e-e573-4462-b16f-b1857982395b",
   "metadata": {},
   "outputs": [],
   "source": []
  }
 ],
 "metadata": {
  "kernelspec": {
   "display_name": "Python 3 (ipykernel)",
   "language": "python",
   "name": "python3"
  },
  "language_info": {
   "codemirror_mode": {
    "name": "ipython",
    "version": 3
   },
   "file_extension": ".py",
   "mimetype": "text/x-python",
   "name": "python",
   "nbconvert_exporter": "python",
   "pygments_lexer": "ipython3",
   "version": "3.10.8"
  }
 },
 "nbformat": 4,
 "nbformat_minor": 5
}
