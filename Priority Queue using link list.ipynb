{
 "cells": [
  {
   "cell_type": "code",
   "execution_count": 15,
   "id": "23614178-f909-4f63-811e-9b80f5b8b49e",
   "metadata": {},
   "outputs": [
    {
     "name": "stdout",
     "output_type": "stream",
     "text": [
      "8\n",
      "3 1 2 5 \n",
      "5 1 2 "
     ]
    }
   ],
   "source": [
    "class Node:\n",
    "    def __init__(self,priority=None,item=None,next=None):\n",
    "        self.priority=priority\n",
    "        self.item=item\n",
    "        self.next=next\n",
    "\n",
    "class PriorityQueue:\n",
    "    def __init__(self):\n",
    "        self.start=None\n",
    "        self.item_count=0\n",
    "        \n",
    "    def push(self,data,priority):\n",
    "        n=Node(data,priority)\n",
    "        if not self.start or priority < self.start.priority:\n",
    "            n.next=self.start\n",
    "            self.start=n\n",
    "        else:\n",
    "            temp=self.start\n",
    "            while temp.next and temp.next.priority<= priority:\n",
    "                temp=temp.next\n",
    "            n.next=temp.next\n",
    "            temp.next=n\n",
    "            self.item_count+=1\n",
    "    \n",
    "    def is_empty(self):\n",
    "        # return self.item_count==0\n",
    "        return self.start==None\n",
    "    \n",
    "    def pop(self):\n",
    "        if self.is_empty():\n",
    "            raise IndexError(\"Priority Queue is empty\")\n",
    "        else:\n",
    "            data=self.start.item\n",
    "            self.start=self.start.next\n",
    "            self.item_count-=1\n",
    "            return data\n",
    "    \n",
    "    def size(self):\n",
    "        return self.item_count\n",
    "\n",
    "\n",
    "p1=PriorityQueue()\n",
    "p1.push(10,5)\n",
    "p1.push(12,2)\n",
    "p1.push(8,1)\n",
    "p1.push(9,3)\n",
    "p1.push(19,8)\n",
    "\n",
    "print(p1.pop()) # it will print 1 element which is first element becuase that has more priority \n",
    "\n",
    "while not p1.is_empty():\n",
    "    print(p1.pop(),end=\" \")\n",
    "    \n",
    "print()\n",
    "\n",
    "p1.push(18,2)\n",
    "p1.push(17,1)\n",
    "p1.push(13,5)\n",
    "while not p1.is_empty():\n",
    "    print(p1.pop(),end=\" \")           \n",
    "        \n",
    "    "
   ]
  },
  {
   "cell_type": "code",
   "execution_count": 14,
   "id": "66af8151-67af-4055-b39f-692374f6162a",
   "metadata": {},
   "outputs": [
    {
     "name": "stdout",
     "output_type": "stream",
     "text": [
      "8\n",
      "3 1 2 5 \n",
      "5 1 2 "
     ]
    }
   ],
   "source": [
    "class Node:\n",
    "    def __init__(self,priority=None,item=None,next=None):\n",
    "        self.priority=priority\n",
    "        self.item=item\n",
    "        self.next=next\n",
    "\n",
    "class PriorityQueue:\n",
    "    def __init__(self):\n",
    "        self.start=None\n",
    "        self.item_count=0\n",
    "        \n",
    "    def push(self,data,priority):\n",
    "        n=Node(data,priority)\n",
    "        if not self.start or priority < self.start.priority:\n",
    "            n.next=self.start\n",
    "            self.start=n\n",
    "        else:\n",
    "            temp=self.start\n",
    "            while temp.next and temp.next.priority<= priority:\n",
    "                temp=temp.next\n",
    "            n.next=temp.next\n",
    "            temp.next=n\n",
    "            self.item_count+=1\n",
    "    \n",
    "    def is_empty(self):\n",
    "        # return self.item_count==0\n",
    "        return self.start==None\n",
    "    \n",
    "    def pop(self):\n",
    "        if self.is_empty():\n",
    "            raise IndexError(\"Priority Queue is empty\")\n",
    "        else:\n",
    "            data=self.start.item\n",
    "            self.start=self.start.next\n",
    "            return data\n",
    "    \n",
    "    def size(self):\n",
    "        return self.item_count\n",
    "\n",
    "\n",
    "p1=PriorityQueue()\n",
    "p1.push(10,5)\n",
    "p1.push(12,2)\n",
    "p1.push(8,1)\n",
    "p1.push(9,3)\n",
    "p1.push(19,8)\n",
    "\n",
    "print(p1.pop()) # it will print 1 element which is first element becuase that has more priority \n",
    "\n",
    "while not p1.is_empty():\n",
    "    print(p1.pop(),end=\" \")\n",
    "    \n",
    "print()\n",
    "\n",
    "p1.push(18,2)\n",
    "p1.push(17,1)\n",
    "p1.push(13,5)\n",
    "while not p1.is_empty():\n",
    "    print(p1.pop(),end=\" \")"
   ]
  },
  {
   "cell_type": "code",
   "execution_count": 9,
   "id": "5d4388cc-b95d-47db-9e02-021bde9b6e24",
   "metadata": {},
   "outputs": [
    {
     "data": {
      "text/plain": [
       "25"
      ]
     },
     "execution_count": 9,
     "metadata": {},
     "output_type": "execute_result"
    }
   ],
   "source": [
    "25"
   ]
  },
  {
   "cell_type": "code",
   "execution_count": null,
   "id": "9a2aaf3f-0d0b-407c-8c76-4249c0eba930",
   "metadata": {},
   "outputs": [],
   "source": []
  }
 ],
 "metadata": {
  "kernelspec": {
   "display_name": "Python 3 (ipykernel)",
   "language": "python",
   "name": "python3"
  },
  "language_info": {
   "codemirror_mode": {
    "name": "ipython",
    "version": 3
   },
   "file_extension": ".py",
   "mimetype": "text/x-python",
   "name": "python",
   "nbconvert_exporter": "python",
   "pygments_lexer": "ipython3",
   "version": "3.10.8"
  }
 },
 "nbformat": 4,
 "nbformat_minor": 5
}
