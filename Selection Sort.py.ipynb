{
 "cells": [
  {
   "cell_type": "code",
   "execution_count": 10,
   "id": "566c0ec2-440a-4bcd-8b16-8d74000d0181",
   "metadata": {},
   "outputs": [
    {
     "name": "stdout",
     "output_type": "stream",
     "text": [
      "3\n"
     ]
    }
   ],
   "source": [
    "l=[5,4,22,32,3]\n",
    "min=l[0] # let index 0 be min element \n",
    "for i in range(len(l)): # length(l)=5\n",
    "    if l[i]<min: # agar l[i] min se chhota hota hai toh \n",
    "        min=l[i] # min mein l[i] daal do \n",
    "print(min)\n",
    "\n",
    "# Let 0 index element be min element then\n",
    "# agar koi element min se bhi chhota hota hai toh usko min mein daal do"
   ]
  },
  {
   "cell_type": "code",
   "execution_count": 12,
   "id": "d2bc737e-37e2-4d1d-9428-e08170612eaf",
   "metadata": {},
   "outputs": [
    {
     "name": "stdout",
     "output_type": "stream",
     "text": [
      "[2, 3, 4, 5, 11, 22, 33]\n"
     ]
    }
   ],
   "source": [
    "def Selection_Sort(list1):\n",
    "    n=len(list1)\n",
    "    for i in range(n): # 22,11,33,45,1\n",
    "        min_index=i  # let min_index=i [shuru mein i 0 then min index j se aayegi neeche line 7\n",
    "        for j in range(i+1,n): # (1-5) then (2,5), (3,5), ..(5,5).\n",
    "            if list1[j]<list1[min_index]: # agar list[j] chhota hoga list[min_index] se chhota hai tab\n",
    "                min_index=j # min_index mein j(new min_index) aa jaye # agar koi value min_index se \n",
    "        list1[i],list1[min_index]=list1[min_index],list1[i] # swap ho jaye value yaani ab starting ke\n",
    "                                            # index par min_value aur jaha pehle min value\n",
    "                                            # tha waha abhi jo place par min value aayi wo \n",
    "l=[22,33,11,4,5,3,2]\n",
    "Selection_Sort(l)\n",
    "print(l)\n",
    "                \n",
    "            \n",
    "            "
   ]
  },
  {
   "cell_type": "code",
   "execution_count": null,
   "id": "ab0145b9-bd63-4c45-a288-771515502c77",
   "metadata": {},
   "outputs": [],
   "source": []
  }
 ],
 "metadata": {
  "kernelspec": {
   "display_name": "Python 3 (ipykernel)",
   "language": "python",
   "name": "python3"
  },
  "language_info": {
   "codemirror_mode": {
    "name": "ipython",
    "version": 3
   },
   "file_extension": ".py",
   "mimetype": "text/x-python",
   "name": "python",
   "nbconvert_exporter": "python",
   "pygments_lexer": "ipython3",
   "version": "3.10.8"
  }
 },
 "nbformat": 4,
 "nbformat_minor": 5
}
