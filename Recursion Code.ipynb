{
 "cells": [
  {
   "cell_type": "code",
   "execution_count": 46,
   "id": "0a4e1cd7-1c5c-4c62-8133-d3bdc30ee8ec",
   "metadata": {},
   "outputs": [
    {
     "name": "stdout",
     "output_type": "stream",
     "text": [
      "1 2 3 4 5 \n",
      "1 2 3 4 5 None\n"
     ]
    }
   ],
   "source": [
    "# Write a recursive function to print first N natural numbers.\n",
    "\n",
    "def printN(num):\n",
    "    if num>0:\n",
    "        printN(num-1)\n",
    "        print(num,end=\" \")\n",
    "printN(5) \n",
    "print() # For next line\n",
    "print(printN(5)) # print likhne se none aaata hai because print likhe aur kuch print nahi karwaye that's why none"
   ]
  },
  {
   "cell_type": "code",
   "execution_count": 48,
   "id": "75e807ec-9f49-45dc-9201-39b803e44903",
   "metadata": {},
   "outputs": [
    {
     "name": "stdout",
     "output_type": "stream",
     "text": [
      "5 4 3 2 1 "
     ]
    }
   ],
   "source": [
    "# Write a recursive function to print first N reverse natural numbers.\n",
    "\n",
    "def printNReverse(num):\n",
    "    if num>0:\n",
    "        print(num,end=\" \")\n",
    "        printNReverse(num-1)\n",
    "printNReverse(5)"
   ]
  },
  {
   "cell_type": "code",
   "execution_count": 50,
   "id": "8b37cee1-45fc-4ef1-bece-5b25b73e5bf1",
   "metadata": {},
   "outputs": [
    {
     "name": "stdout",
     "output_type": "stream",
     "text": [
      "2 4 6 8 10 "
     ]
    }
   ],
   "source": [
    "def EvenNatural(num):\n",
    "    if num>0:\n",
    "        EvenNatural(num-1)\n",
    "        print(2*num,end=\" \")\n",
    "EvenNatural(5)"
   ]
  },
  {
   "cell_type": "code",
   "execution_count": 52,
   "id": "877616ed-a3e5-432a-b64e-8ec6342fcf11",
   "metadata": {},
   "outputs": [
    {
     "name": "stdout",
     "output_type": "stream",
     "text": [
      "1 3 5 7 9 "
     ]
    }
   ],
   "source": [
    "def OddNatural(num):\n",
    "    if num>0:\n",
    "        OddNatural(num-1)\n",
    "        print(2*num-1,end=\" \")\n",
    "OddNatural(5)"
   ]
  },
  {
   "cell_type": "code",
   "execution_count": 54,
   "id": "e2eabc89-152b-4b3e-af04-7873388493c6",
   "metadata": {},
   "outputs": [
    {
     "name": "stdout",
     "output_type": "stream",
     "text": [
      "10 8 6 4 2 "
     ]
    }
   ],
   "source": [
    "def EvenRev(num):\n",
    "    if num>0:\n",
    "        print(2*num,end=\" \")\n",
    "        EvenRev(num-1)\n",
    "EvenRev(5)"
   ]
  },
  {
   "cell_type": "code",
   "execution_count": 55,
   "id": "4203d71a-2a16-4733-8a83-ecba3239b75a",
   "metadata": {},
   "outputs": [
    {
     "name": "stdout",
     "output_type": "stream",
     "text": [
      "9 7 5 3 1 "
     ]
    }
   ],
   "source": [
    "def OddRev(num):\n",
    "    if num>0:\n",
    "        print(2*num-1,end=\" \")\n",
    "        OddRev(num-1)\n",
    "OddRev(5)"
   ]
  },
  {
   "cell_type": "code",
   "execution_count": null,
   "id": "c59b6cc9-affb-475e-a876-a05aa15820ea",
   "metadata": {},
   "outputs": [],
   "source": []
  },
  {
   "cell_type": "code",
   "execution_count": 40,
   "id": "2e31e958-8c75-4b35-948b-7d850ec5b919",
   "metadata": {},
   "outputs": [
    {
     "name": "stdout",
     "output_type": "stream",
     "text": [
      "5 4 3 2 1 "
     ]
    }
   ],
   "source": [
    "def printRevN(num):\n",
    "    if num>0:\n",
    "        printRevN(num-1)\n",
    "        print(6-num,end=\" \")\n",
    "printRevN(5)"
   ]
  },
  {
   "cell_type": "code",
   "execution_count": 22,
   "id": "7143f283-a373-4e9b-ac58-c2b4105542a8",
   "metadata": {},
   "outputs": [
    {
     "name": "stdout",
     "output_type": "stream",
     "text": [
      "1\n",
      "2\n",
      "3\n",
      "4\n",
      "5\n",
      "None\n"
     ]
    }
   ],
   "source": [
    "# Write a recursive function to print first N natural numbers.\n",
    "\n",
    "def FirstNum(num):\n",
    "    if num>0:\n",
    "        FirstNum(num-1)\n",
    "        print(num)\n",
    "\n",
    "    # else:\n",
    "    #     return FirstNum(num-1)\n",
    "\n",
    "print(FirstNum(5))\n",
    "# for i in range (1,5):\n",
    "#     print(FirstNum(5))"
   ]
  },
  {
   "cell_type": "code",
   "execution_count": 17,
   "id": "22da2900-2223-42b3-81ed-11632066eb3a",
   "metadata": {},
   "outputs": [
    {
     "name": "stdout",
     "output_type": "stream",
     "text": [
      "15\n"
     ]
    }
   ],
   "source": [
    "def FirstSum(n):\n",
    "    if n==1:   # Base case \n",
    "        return 1\n",
    "    else:\n",
    "        s=n+FirstSum(n-1) # \n",
    "        return s\n",
    "\n",
    "num=FirstSum(5)\n",
    "print(num)\n",
    "    "
   ]
  },
  {
   "cell_type": "code",
   "execution_count": null,
   "id": "6337b316-98d9-49e3-b287-cd7c0f7b40b1",
   "metadata": {},
   "outputs": [],
   "source": []
  }
 ],
 "metadata": {
  "kernelspec": {
   "display_name": "Python 3 (ipykernel)",
   "language": "python",
   "name": "python3"
  },
  "language_info": {
   "codemirror_mode": {
    "name": "ipython",
    "version": 3
   },
   "file_extension": ".py",
   "mimetype": "text/x-python",
   "name": "python",
   "nbconvert_exporter": "python",
   "pygments_lexer": "ipython3",
   "version": "3.10.8"
  }
 },
 "nbformat": 4,
 "nbformat_minor": 5
}
