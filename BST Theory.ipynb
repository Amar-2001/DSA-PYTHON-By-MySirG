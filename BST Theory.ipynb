{
 "cells": [
  {
   "cell_type": "code",
   "execution_count": 1,
   "id": "35280c8b-94ff-49e0-978e-cef5056ae4e0",
   "metadata": {},
   "outputs": [],
   "source": [
    "# A binary tree is defined as the finite set of elements called Nodes, such that \n",
    "# 'T' is empty node called the Null Tree or empty tree\n",
    "# \"T\" contains a distinguished node 'R1' called the root node of the 'T' from an ordered pair of \n",
    "# disjoint binary tree 'T1' and 'T2'"
   ]
  },
  {
   "cell_type": "code",
   "execution_count": 2,
   "id": "e55b4825-054e-495a-94d8-543fc1eb7618",
   "metadata": {},
   "outputs": [],
   "source": [
    "# Any node in binary tree has either 0,1 or 2 child nodes"
   ]
  },
  {
   "cell_type": "code",
   "execution_count": 3,
   "id": "ee433c73-e935-44f7-bbd4-2f56d3e4d074",
   "metadata": {},
   "outputs": [],
   "source": [
    "# Complete Binary tree := All levels are completely filled such as \n",
    "# level 0- 1, level 1=2 , level 2-4 ...level n- 2^n"
   ]
  },
  {
   "cell_type": "code",
   "execution_count": 4,
   "id": "555394c4-4bab-4927-a748-cf3b40eea025",
   "metadata": {},
   "outputs": [],
   "source": [
    "# Almost complete Binary tree 🎄 :-  All levels are completely filled except possible the last level and nodes in the last level \n",
    "# are all left alligned "
   ]
  },
  {
   "cell_type": "code",
   "execution_count": 5,
   "id": "2c48a42c-e6ac-4458-8f71-73cdb9ce599c",
   "metadata": {},
   "outputs": [],
   "source": [
    "# Strict Binary Tree :- each node having 0 or 2 child node"
   ]
  },
  {
   "cell_type": "code",
   "execution_count": 6,
   "id": "cbdc0fdd-868b-4dd0-adc3-355f411074b1",
   "metadata": {},
   "outputs": [],
   "source": [
    "# 2 possible representation:- 1.Array\n",
    "#                             2.Linked list (by default)"
   ]
  },
  {
   "cell_type": "code",
   "execution_count": 7,
   "id": "bb08496b-8816-49f7-ba6c-ef36c0c74282",
   "metadata": {},
   "outputs": [],
   "source": [
    "class Node:\n",
    "    def __init__(self,item=None,left=None,right=None):\n",
    "        self.item=item\n",
    "        self.left=left\n",
    "        self.right=right"
   ]
  },
  {
   "cell_type": "code",
   "execution_count": null,
   "id": "90675499-cada-4195-94a1-89a5072495fc",
   "metadata": {},
   "outputs": [],
   "source": []
  }
 ],
 "metadata": {
  "kernelspec": {
   "display_name": "Python 3 (ipykernel)",
   "language": "python",
   "name": "python3"
  },
  "language_info": {
   "codemirror_mode": {
    "name": "ipython",
    "version": 3
   },
   "file_extension": ".py",
   "mimetype": "text/x-python",
   "name": "python",
   "nbconvert_exporter": "python",
   "pygments_lexer": "ipython3",
   "version": "3.10.8"
  }
 },
 "nbformat": 4,
 "nbformat_minor": 5
}
