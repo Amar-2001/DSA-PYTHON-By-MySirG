{
 "cells": [
  {
   "cell_type": "code",
   "execution_count": 8,
   "id": "97ea97aa-1a0d-4800-b54c-3326a7b648fb",
   "metadata": {},
   "outputs": [],
   "source": [
    "# memory ke terms mein dynamic array or \n",
    "# python mein list sahi hai but when space complexity ki need ho\n",
    " \n",
    "# par agar time complextiy ki need hai toh dynamic array \n",
    "# ya list ka use karekarenge \n",
    "\n",
    "# Dry run karo most important , code ka diagram banao\n",
    "# try karte raho , then dry run by making their diagram \n",
    "# and watch solution only if you atleast tried 5 times  \n",
    "\n",
    "# ho sakta hai kayi baar jo problem banaye ho bhul jaao \n",
    "# doesn't matter hard or even easy problem \n",
    "# solve the problem exact at real time solve problem at real time\n",
    "# Sourabh shukla sir bhi bole wo bhi bhul jaate hai \n",
    "# then kya kare solve problem at real time \n",
    "\n",
    "# Agar aapko lagta hai ki mujhe hi samajh nahi aa rahi hai \n",
    "# sabko aa rahi hai then it's a myth sabko shuru mein aisa hi laga tha\n",
    "# but unhone try kiya aur tab wo aisa hai \n",
    "\n",
    "# Doubly Link List:-"
   ]
  },
  {
   "cell_type": "code",
   "execution_count": 2,
   "id": "c04ed5da-9fd3-4131-a603-6957a81317d1",
   "metadata": {},
   "outputs": [],
   "source": [
    "# Limitation of singly link list\n"
   ]
  },
  {
   "cell_type": "code",
   "execution_count": 4,
   "id": "2fea7aa9-fce4-4fc3-92e7-129fd9c511e7",
   "metadata": {},
   "outputs": [],
   "source": [
    "# Limitation of singly link list\n",
    "# Singly link list tab tak hi sahi hai jab tak humein forwared\n",
    "# direction mein hi jana hai \n",
    "\n",
    "# but backward mein bhi aana ho then doubly link list\n",
    "\n",
    "# for example when user want to go forward when even number is entered\n",
    "# and come backward when odd number is entered"
   ]
  },
  {
   "cell_type": "code",
   "execution_count": 6,
   "id": "2ff2e11d-95c2-4452-bfef-a95f8930e938",
   "metadata": {},
   "outputs": [],
   "source": [
    "\n",
    "\n",
    "# Node:- Start-> prev,item,next->prev,item,next-> ....prev,item,X\n",
    "\n",
    "# Question then why not use doubly link list\n",
    "# because doubly link mein extra memrory kharch ho raha \n",
    "# when we want to go only forward we use only singly list list\n",
    "\n",
    "# kis jagah par kya data structure use karna hai wahi samjhna hai\n",
    "# high company gives high package to good dsa programmer\n"
   ]
  },
  {
   "cell_type": "code",
   "execution_count": 7,
   "id": "ff4da90b-c667-4919-b941-0edc51370aae",
   "metadata": {},
   "outputs": [],
   "source": [
    "# Insertion \n",
    "# Deletion \n",
    "# Traversing\n",
    "# Searching \n",
    "# Checking for empty list\n"
   ]
  },
  {
   "cell_type": "code",
   "execution_count": 9,
   "id": "e4a8d9e0-fb0d-4f94-99c6-efa1635c0f4b",
   "metadata": {},
   "outputs": [
    {
     "ename": "NameError",
     "evalue": "name 'Node' is not defined",
     "output_type": "error",
     "traceback": [
      "\u001b[0;31m---------------------------------------------------------------------------\u001b[0m",
      "\u001b[0;31mNameError\u001b[0m                                 Traceback (most recent call last)",
      "Cell \u001b[0;32mIn[9], line 4\u001b[0m\n\u001b[1;32m      1\u001b[0m \u001b[38;5;66;03m# Insertion: -\u001b[39;00m\n\u001b[1;32m      2\u001b[0m \n\u001b[1;32m      3\u001b[0m \u001b[38;5;66;03m# create a new node \u001b[39;00m\n\u001b[0;32m----> 4\u001b[0m n\u001b[38;5;241m=\u001b[39m\u001b[43mNode\u001b[49m(\u001b[38;5;28mself\u001b[39m,data) \n\u001b[1;32m      6\u001b[0m \u001b[38;5;66;03m#pehle wale start ke prev mein \u001b[39;00m\n\u001b[1;32m      7\u001b[0m start\u001b[38;5;241m.\u001b[39mprev\u001b[38;5;241m=\u001b[39mn\n",
      "\u001b[0;31mNameError\u001b[0m: name 'Node' is not defined"
     ]
    }
   ],
   "source": [
    "# Insertion: -\n",
    "\n",
    "# create a new node \n",
    "n=Node(self,data) \n",
    "\n",
    "#pehle wale start ke prev mein \n",
    "start.prev=n\n",
    "\n",
    "# Abhi  wale start mein \n",
    "start=n # start mein new node ko add kiya\n",
    "n.prev=None\n",
    "n.next=start\n",
    "\n",
    "\n",
    "\n"
   ]
  },
  {
   "cell_type": "code",
   "execution_count": null,
   "id": "bbec7363-a79d-41db-bdcd-edebf5dbeafb",
   "metadata": {},
   "outputs": [],
   "source": []
  }
 ],
 "metadata": {
  "kernelspec": {
   "display_name": "Python 3 (ipykernel)",
   "language": "python",
   "name": "python3"
  },
  "language_info": {
   "codemirror_mode": {
    "name": "ipython",
    "version": 3
   },
   "file_extension": ".py",
   "mimetype": "text/x-python",
   "name": "python",
   "nbconvert_exporter": "python",
   "pygments_lexer": "ipython3",
   "version": "3.10.8"
  }
 },
 "nbformat": 4,
 "nbformat_minor": 5
}
