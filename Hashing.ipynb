{
 "cells": [
  {
   "cell_type": "code",
   "execution_count": 2,
   "id": "d1bf573f-68f4-4330-9b5d-4ebc633e0746",
   "metadata": {},
   "outputs": [],
   "source": [
    "# Hashing:- It is a technique of mapping keys and values into the hash table by hash function\n",
    "\n",
    "# If achiieved correctly then one can achieve O(1) time complexity in searching an item\n",
    "# in the collection of elements.\n",
    "\n",
    "\n",
    "# ** Efficiency of mapping depends on the efficiency of hash function used.\n",
    "\n",
    "# 1. Hash table:- It is a data structure used to store elements.\n",
    "# 2. Hash function:- It is a function to map (Hash) keys-values to the memory address.\n",
    "# 3.Hashing:= It is a method of storing and retrieving elemetns from the database.\n"
   ]
  },
  {
   "cell_type": "code",
   "execution_count": 5,
   "id": "7b0ee66b-efe3-427c-9f22-8d869bd82fc3",
   "metadata": {},
   "outputs": [],
   "source": [
    "# (key)roll no 1 to 100 then (value)index 0 to 99 \n",
    "# means we have to find 100 then return 100-1 =99 so fast searching\n",
    "\n",
    "# but in real life we have so much data such as roll no.(key)  and value 1 to 100 then\n",
    "# 10234=34 (collision) \n",
    "# 12343=43\n",
    "# 129923=23\n",
    "# 123234=34 (collision)\n",
    "\n",
    "# if we have same value then there is chance of collision but it rarely happends\n",
    "\n",
    "\n",
    "# Hash function is done through some formula \n",
    "# 1.Simple mod function\n",
    "# 2.Division method \n",
    "# 3.Binning\n",
    "# 4.Mid Square method\n",
    "\n",
    "# Collision resolution\n",
    "# 1.open hashing/Chaining\n",
    "# 2.Closed hashing/Open addressing"
   ]
  },
  {
   "cell_type": "code",
   "execution_count": null,
   "id": "bfffa3e6-25ef-406e-aa97-ed728ffce9da",
   "metadata": {},
   "outputs": [],
   "source": []
  }
 ],
 "metadata": {
  "kernelspec": {
   "display_name": "Python 3 (ipykernel)",
   "language": "python",
   "name": "python3"
  },
  "language_info": {
   "codemirror_mode": {
    "name": "ipython",
    "version": 3
   },
   "file_extension": ".py",
   "mimetype": "text/x-python",
   "name": "python",
   "nbconvert_exporter": "python",
   "pygments_lexer": "ipython3",
   "version": "3.10.8"
  }
 },
 "nbformat": 4,
 "nbformat_minor": 5
}
