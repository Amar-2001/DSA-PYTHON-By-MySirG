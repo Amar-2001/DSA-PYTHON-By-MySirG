{
 "cells": [
  {
   "cell_type": "code",
   "execution_count": 2,
   "id": "5d27145d-9e19-441d-bad3-41dbdefe6045",
   "metadata": {},
   "outputs": [],
   "source": [
    "# Queue is a linear data structure.\n",
    "# Linear means sequnce hoga means ek ke baad ek \n",
    "# working principle of Queue is First In First Out(FIFO) or Last In Last Out(LILO)\n"
   ]
  },
  {
   "cell_type": "code",
   "execution_count": 3,
   "id": "2c213a7c-736d-46a7-9289-c71f3faba472",
   "metadata": {},
   "outputs": [],
   "source": [
    "# Agar Queue data stucture ko koi aur banaya hai aur hum usse use kar rahe apne program mein \n",
    "# toh Humare liye wo abstract data type hai usme variables aur functions encapsulated hai class ke andar\n"
   ]
  },
  {
   "cell_type": "code",
   "execution_count": 4,
   "id": "778b99e9-eab0-415c-b432-8d981c0e8e5c",
   "metadata": {},
   "outputs": [],
   "source": [
    "# Rear :-insertion or pipe se paani insert hona\n",
    "# Front :-Deletion or pipe se paani nikalna\n",
    "\n"
   ]
  },
  {
   "cell_type": "code",
   "execution_count": 5,
   "id": "dee70d08-9074-498f-b498-e4c2a1b1f76d",
   "metadata": {},
   "outputs": [],
   "source": [
    "# Operations of Queue\n",
    "\n",
    "# 1.Enqueue or Enter queue\n",
    "# 2.Dequeue or delete queue\n",
    "# 3.is_empty\n",
    "# 3.get_rear or peek 1st element (insertion)\n",
    "# 4.get_front or peek last element \n",
    "# 5.size\n"
   ]
  },
  {
   "cell_type": "code",
   "execution_count": 6,
   "id": "532bb779-e201-42d6-9844-d3b02f0ee3bb",
   "metadata": {},
   "outputs": [],
   "source": [
    "# Real world example\n",
    "# 1.Roaler Coaster, Movie line \n",
    "# 2. Shuttlecock (badminton ) in a cylindrical box"
   ]
  },
  {
   "cell_type": "code",
   "execution_count": 7,
   "id": "be225df1-4316-4a6b-9040-0ae868a2206c",
   "metadata": {},
   "outputs": [],
   "source": [
    "# Print task in a printer\n",
    "# Admission module to implement first come first serve\n",
    "# Breadth first search"
   ]
  },
  {
   "cell_type": "code",
   "execution_count": 8,
   "id": "74a01bf9-9afd-44d1-97a8-2bf039afe49a",
   "metadata": {},
   "outputs": [],
   "source": [
    "# 1.Using list\n",
    "# 2.By extending list\n",
    "# 3.using singly link list class\n",
    "# 4.By extending Sigly link list class\n",
    "# 5.Using link list concept"
   ]
  },
  {
   "cell_type": "code",
   "execution_count": 9,
   "id": "07f57b72-b0d7-4213-9519-307233512a62",
   "metadata": {},
   "outputs": [],
   "source": [
    "# Therory aur practical saath saath honi chahiye"
   ]
  },
  {
   "cell_type": "code",
   "execution_count": null,
   "id": "46aff870-3041-4ad2-8552-9baf45f27d88",
   "metadata": {},
   "outputs": [],
   "source": []
  }
 ],
 "metadata": {
  "kernelspec": {
   "display_name": "Python 3 (ipykernel)",
   "language": "python",
   "name": "python3"
  },
  "language_info": {
   "codemirror_mode": {
    "name": "ipython",
    "version": 3
   },
   "file_extension": ".py",
   "mimetype": "text/x-python",
   "name": "python",
   "nbconvert_exporter": "python",
   "pygments_lexer": "ipython3",
   "version": "3.10.8"
  }
 },
 "nbformat": 4,
 "nbformat_minor": 5
}
