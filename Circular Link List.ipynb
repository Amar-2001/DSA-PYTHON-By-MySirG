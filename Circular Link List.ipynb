{
 "cells": [
  {
   "cell_type": "code",
   "execution_count": 1,
   "id": "06f38ac2-d154-40ad-9556-ce8c68e922ae",
   "metadata": {},
   "outputs": [],
   "source": [
    "# Circular Link list :-  \n",
    "\n",
    "\n",
    "# SLL drawback :- we can't go back that is solved by DLL\n",
    "# but also one more problem last node is null that is wastage of memrory\n"
   ]
  },
  {
   "cell_type": "code",
   "execution_count": 2,
   "id": "262f5076-3fcc-40c8-844f-3ae6702625af",
   "metadata": {},
   "outputs": [],
   "source": [
    "# check for last node\n",
    "# if temp.next==start # agar last node aur start node same tab"
   ]
  },
  {
   "cell_type": "code",
   "execution_count": 3,
   "id": "3122301b-22ee-46bf-b3de-20655f371573",
   "metadata": {},
   "outputs": [],
   "source": [
    "# Insertion :- \n",
    "\n",
    "# In SLL;-\n",
    "# In start:- No traversing\n",
    "# At last := Traversing\n",
    "\n",
    "\n",
    "# In CLL:-\n",
    "# At STart-TRaversing :- pehle node ko point kaun kar raha last node\n",
    "# At last-Traversing :-last tak jane mein traverse toh karna padega na"
   ]
  },
  {
   "cell_type": "code",
   "execution_count": 1,
   "id": "6fedd2b5-3c50-410a-b66f-a78a5cc4e0ca",
   "metadata": {},
   "outputs": [],
   "source": [
    "# Deletion-\n",
    "\n",
    "# InSLL \n",
    "# First node:-No traversing\n",
    "# last  node:-Traversing\n",
    "\n",
    "# InCLL:y\n",
    "# First node- Traversing:-pehle node ko point kaun kar raha last node\n",
    "# Last node--Traversing :-last tak jane mein traverse toh karna padega na\n",
    "\n",
    "# Performance :- Singly link list is better than Circular Link List.\n",
    "\n"
   ]
  },
  {
   "cell_type": "code",
   "execution_count": 6,
   "id": "dc3498e7-a719-42f4-b63b-d556bf0d9164",
   "metadata": {},
   "outputs": [],
   "source": [
    "# pointer ko last node mein add kar diye\n",
    "\n",
    "# Insertion :- start= NO Traversing\n",
    "#              last = No Traversing\n",
    "    \n",
    "# Deletion:-   start =No traversing\n",
    "#              last = traversing\n",
    "\n",
    "\n",
    "    \n",
    "# Time ke according better- Circular link list but \n",
    "# because last mein pointer fix karne se traversing sirf ek\n",
    "# baar karna hoga deletion at last\n",
    "\n",
    "# Ek thoda sa change karke perfomance mein change hota hai "
   ]
  },
  {
   "cell_type": "code",
   "execution_count": null,
   "id": "bd2a5c2b-fd9a-4214-a4c0-95ba6746d51a",
   "metadata": {},
   "outputs": [],
   "source": []
  }
 ],
 "metadata": {
  "kernelspec": {
   "display_name": "Python 3 (ipykernel)",
   "language": "python",
   "name": "python3"
  },
  "language_info": {
   "codemirror_mode": {
    "name": "ipython",
    "version": 3
   },
   "file_extension": ".py",
   "mimetype": "text/x-python",
   "name": "python",
   "nbconvert_exporter": "python",
   "pygments_lexer": "ipython3",
   "version": "3.10.8"
  }
 },
 "nbformat": 4,
 "nbformat_minor": 5
}
