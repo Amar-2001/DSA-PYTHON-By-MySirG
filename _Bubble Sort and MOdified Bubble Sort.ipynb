{
 "cells": [
  {
   "cell_type": "code",
   "execution_count": 3,
   "id": "b5c59fc2-43a4-443f-a990-010cfc3fc842",
   "metadata": {},
   "outputs": [
    {
     "name": "stdout",
     "output_type": "stream",
     "text": [
      "1\n",
      "2\n",
      "3\n",
      "4\n"
     ]
    }
   ],
   "source": [
    "for r in range(1,5): # range only 5 dene par wo 0,1,2,3,4,5 but \n",
    "    print(r) # range(1,5) dene par 1,2,3,4 means shuru ka 1 se last se ek kam tak"
   ]
  },
  {
   "cell_type": "code",
   "execution_count": 4,
   "id": "1cccb40a-7436-4e38-8587-3c6e3b1ee8f1",
   "metadata": {},
   "outputs": [
    {
     "name": "stdout",
     "output_type": "stream",
     "text": [
      "[1, 2, 3, 5, 5, 43]\n"
     ]
    }
   ],
   "source": [
    "def Bubble_sort(data_list):\n",
    "    for r in range(1,len(data_list) ): # 1 se data_list ka len tak if data_list len 5 means 1,2,3,4 Ok\n",
    "        for i in range(len(data_list)-r): # har baar data_list se \"r\" kam yaani (5-4),(5-3),..(5-0)\n",
    "            if data_list[i]>data_list[i+1]:\n",
    "                data_list[i],data_list[i+1]=data_list[i+1],data_list[i]\n",
    "            \n",
    "l=[5,43,5,2,3,1]\n",
    "Bubble_sort(l)\n",
    "print(l)\n",
    "        "
   ]
  },
  {
   "cell_type": "code",
   "execution_count": 10,
   "id": "bf69b49f-235d-43bc-a1cd-4496e0e89dc1",
   "metadata": {},
   "outputs": [
    {
     "name": "stdout",
     "output_type": "stream",
     "text": [
      "[1, 2, 3, 5, 5, 43]\n"
     ]
    }
   ],
   "source": [
    "def modified_Bubble_sort(data_list):\n",
    "    flag=False\n",
    "    for r in range(1,len(data_list) ):\n",
    "        flag=False\n",
    "        for i in range(len(data_list) - r):\n",
    "            if data_list[i]>data_list[i+1]:\n",
    "                data_list[i],data_list[i+1]=data_list[i+1],data_list[i]\n",
    "                flag=True # agar swapping hoga tabhi flag ki value \"True\" hogi\n",
    "        if not flag: # if block tab chalegi ja flag ki value flase hogi \n",
    "            break\n",
    "\n",
    "l=[5,43,5,2,3,1]\n",
    "modified_Bubble_sort(l)\n",
    "print(l)\n",
    "        \n",
    "            "
   ]
  },
  {
   "cell_type": "code",
   "execution_count": null,
   "id": "ccd77125-060c-4aab-a9c9-4c0cd1c6f625",
   "metadata": {},
   "outputs": [],
   "source": []
  }
 ],
 "metadata": {
  "kernelspec": {
   "display_name": "Python 3 (ipykernel)",
   "language": "python",
   "name": "python3"
  },
  "language_info": {
   "codemirror_mode": {
    "name": "ipython",
    "version": 3
   },
   "file_extension": ".py",
   "mimetype": "text/x-python",
   "name": "python",
   "nbconvert_exporter": "python",
   "pygments_lexer": "ipython3",
   "version": "3.10.8"
  }
 },
 "nbformat": 4,
 "nbformat_minor": 5
}
