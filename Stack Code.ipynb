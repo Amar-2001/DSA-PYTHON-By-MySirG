{
 "cells": [
  {
   "cell_type": "code",
   "execution_count": 13,
   "id": "ae725961-337b-43ee-bb56-3824fe4a82be",
   "metadata": {},
   "outputs": [],
   "source": [
    "# 1.Define a class stack\n",
    "\n",
    "class Stack:\n",
    "    def __init__(self):\n",
    "        self.item=[]\n",
    "        "
   ]
  },
  {
   "cell_type": "code",
   "execution_count": 14,
   "id": "6b0b1f5c-44c6-4b3b-853c-808d9734405a",
   "metadata": {},
   "outputs": [],
   "source": [
    "# 2.Define a method is_empty()\n",
    "\n",
    "class Stack:\n",
    "    def __init__(self):\n",
    "        self.item=[]\n",
    "        \n",
    "    # solution here\n",
    "    def is_empty(self):\n",
    "        return len(self.item)==0"
   ]
  },
  {
   "cell_type": "code",
   "execution_count": 16,
   "id": "4de7f42e-76a7-4fa4-9b80-875f5b5ed747",
   "metadata": {},
   "outputs": [],
   "source": [
    "# 3.Push\n",
    "\n",
    "class Stack:\n",
    "    def __init__(self):\n",
    "        self.item=[]\n",
    "        \n",
    "    def is_empty(self):\n",
    "        return len(self.item)==0\n",
    "    \n",
    "    # solution here\n",
    "    def push(self,data):\n",
    "        self.item.append()\n",
    "        "
   ]
  },
  {
   "cell_type": "code",
   "execution_count": 17,
   "id": "a0412069-8778-41d4-987e-08573947cf64",
   "metadata": {},
   "outputs": [],
   "source": [
    "# 4.pop\n",
    "\n",
    "class Stack:\n",
    "    def __init__(self):\n",
    "        self.item=[]\n",
    "        \n",
    "    def is_empty(self):\n",
    "        return len(self.item)==0\n",
    "    \n",
    "    def push(self,data):\n",
    "        self.item.append()\n",
    "            \n",
    "    # solution here\n",
    "    def pop(self):\n",
    "        if not self.is_empty():\n",
    "            self.item.pop()\n",
    "        else:\n",
    "            raise IndexError(\"This is a index error\")"
   ]
  },
  {
   "cell_type": "code",
   "execution_count": 18,
   "id": "b3a9b3a4-9e6c-456f-8338-ea9c6721b085",
   "metadata": {},
   "outputs": [],
   "source": [
    "# 5.peek \n",
    "\n",
    "class Stack:\n",
    "    def __init__(self):\n",
    "        self.item=[]\n",
    "        \n",
    "    def is_empty(self):\n",
    "        return len(self.item)==0\n",
    "    \n",
    "    def push(self,data):\n",
    "        self.item.append()\n",
    "            \n",
    "    def pop(self):\n",
    "        if not self.is_empty():\n",
    "            self.item.pop()\n",
    "        else:\n",
    "            raise IndexError(\"This is a index error\")\n",
    "    \n",
    "            \n",
    "    # solution here\n",
    "    def peek(self):\n",
    "        if not self.is_empty():\n",
    "            return self.item[-1]\n",
    "        else:\n",
    "            raise IndexError(\"This is a index error\")\n",
    "            "
   ]
  },
  {
   "cell_type": "code",
   "execution_count": 38,
   "id": "0ecb6265-4914-4013-b76c-2c136808756c",
   "metadata": {},
   "outputs": [
    {
     "name": "stdout",
     "output_type": "stream",
     "text": [
      "Top element of stack is  10\n",
      "Top element of stack is  20\n"
     ]
    }
   ],
   "source": [
    "# 6. Size of stack\n",
    "\n",
    "class Stack:\n",
    "    def __init__(self):\n",
    "        self.item=[]\n",
    "        \n",
    "    def is_empty(self):\n",
    "        return len(self.item)==0\n",
    "    \n",
    "    def push(self,data):\n",
    "        self.item.append(data)\n",
    "            \n",
    "    def pop(self):\n",
    "        if not self.is_empty():\n",
    "            return self.item.pop()\n",
    "        else:\n",
    "            raise IndexError(\"Stack is empty\")\n",
    "    \n",
    "            \n",
    "    def peek(self):\n",
    "        if not self.is_empty():\n",
    "            return self.item[-1]\n",
    "        else:\n",
    "            raise IndexError(\"Stack is empty\")\n",
    "        \n",
    "            \n",
    "     # solution here\n",
    "    def size(self):\n",
    "        return len(self.item)\n",
    "    \n",
    "s1=Stack()\n",
    "s1.push(10)\n",
    "print(\"Top element of stack is \",s1.peek())\n",
    "s1.push(20)\n",
    "print(\"Top element of stack is \",s1.peek())\n",
    "s1.push(30)\n",
    "# s1.peek()\n",
    "# s1.pop()\n",
    "# print(\"Top element of stack is \",s1.peek())\n",
    "# s1.pop()\n",
    "# s1.peek()\n",
    "# print(\"Top element of stack is \",s1.peek())\n",
    "# s1.push(40)\n",
    "# s1.peek()"
   ]
  },
  {
   "cell_type": "code",
   "execution_count": null,
   "id": "2790764e-fefa-4627-900a-b56024526856",
   "metadata": {},
   "outputs": [],
   "source": []
  }
 ],
 "metadata": {
  "kernelspec": {
   "display_name": "Python 3 (ipykernel)",
   "language": "python",
   "name": "python3"
  },
  "language_info": {
   "codemirror_mode": {
    "name": "ipython",
    "version": 3
   },
   "file_extension": ".py",
   "mimetype": "text/x-python",
   "name": "python",
   "nbconvert_exporter": "python",
   "pygments_lexer": "ipython3",
   "version": "3.10.8"
  }
 },
 "nbformat": 4,
 "nbformat_minor": 5
}
