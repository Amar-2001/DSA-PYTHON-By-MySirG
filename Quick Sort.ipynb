{
 "cells": [
  {
   "cell_type": "code",
   "execution_count": 11,
   "id": "2cf7557c-8bc2-4e19-9a0f-c7f6a585ce53",
   "metadata": {},
   "outputs": [
    {
     "name": "stdout",
     "output_type": "stream",
     "text": [
      "[11, 22, 33, 44, 55]\n"
     ]
    }
   ],
   "source": [
    "def Quick_sort(list1):\n",
    "    if len(list1)<=1:\n",
    "        return list1\n",
    "    else:\n",
    "        pivot=list1[0]\n",
    "        lesser=[ x for x in list1[1: ] if x<=pivot ]\n",
    "        greater=[ x for x in list1[1: ] if x>pivot]\n",
    "        return Quick_sort(lesser) + [pivot] + Quick_sort(greater)\n",
    "    \n",
    "mylist = [44,22,33,55,11]\n",
    "mylist=Quick_sort(mylist)\n",
    "print(mylist)"
   ]
  },
  {
   "cell_type": "code",
   "execution_count": null,
   "id": "4b6d4184-d22a-4a15-b85b-a66780ea0baa",
   "metadata": {},
   "outputs": [],
   "source": []
  }
 ],
 "metadata": {
  "kernelspec": {
   "display_name": "Python 3 (ipykernel)",
   "language": "python",
   "name": "python3"
  },
  "language_info": {
   "codemirror_mode": {
    "name": "ipython",
    "version": 3
   },
   "file_extension": ".py",
   "mimetype": "text/x-python",
   "name": "python",
   "nbconvert_exporter": "python",
   "pygments_lexer": "ipython3",
   "version": "3.10.8"
  }
 },
 "nbformat": 4,
 "nbformat_minor": 5
}
