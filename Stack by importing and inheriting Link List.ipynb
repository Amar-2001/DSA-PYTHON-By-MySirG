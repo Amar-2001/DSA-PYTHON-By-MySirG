{
 "cells": [
  {
   "cell_type": "code",
   "execution_count": 3,
   "id": "2d5509fa-e853-4ceb-b4dd-10dda35d9e3b",
   "metadata": {},
   "outputs": [
    {
     "ename": "ModuleNotFoundError",
     "evalue": "No module named 'Assign3'",
     "output_type": "error",
     "traceback": [
      "\u001b[0;31m---------------------------------------------------------------------------\u001b[0m",
      "\u001b[0;31mModuleNotFoundError\u001b[0m                       Traceback (most recent call last)",
      "Cell \u001b[0;32mIn[3], line 1\u001b[0m\n\u001b[0;32m----> 1\u001b[0m \u001b[38;5;28;01mfrom\u001b[39;00m \u001b[38;5;21;01mAssign3\u001b[39;00m \u001b[38;5;28;01mimport\u001b[39;00m \u001b[38;5;241m*\u001b[39m\n",
      "\u001b[0;31mModuleNotFoundError\u001b[0m: No module named 'Assign3'"
     ]
    }
   ],
   "source": [
    "from Assign3 import *"
   ]
  },
  {
   "cell_type": "code",
   "execution_count": 5,
   "id": "2d8be977-c628-465b-8859-386548d9a35d",
   "metadata": {},
   "outputs": [
    {
     "ename": "SyntaxError",
     "evalue": "incomplete input (3769262197.py, line 2)",
     "output_type": "error",
     "traceback": [
      "\u001b[0;36m  Cell \u001b[0;32mIn[5], line 2\u001b[0;36m\u001b[0m\n\u001b[0;31m    class Stack(Assign3): # inhering Assign3 or Linked List Code\u001b[0m\n\u001b[0m                                                                ^\u001b[0m\n\u001b[0;31mSyntaxError\u001b[0m\u001b[0;31m:\u001b[0m incomplete input\n"
     ]
    }
   ],
   "source": [
    "from Assign3 import *\n",
    "class Stack(Assign3): # inhering Assign3 or Linked List Code"
   ]
  },
  {
   "cell_type": "code",
   "execution_count": 6,
   "id": "e8b029d9-6167-4ed5-97a8-823527cb4249",
   "metadata": {},
   "outputs": [
    {
     "ename": "ModuleNotFoundError",
     "evalue": "No module named 'Assign3'",
     "output_type": "error",
     "traceback": [
      "\u001b[0;31m---------------------------------------------------------------------------\u001b[0m",
      "\u001b[0;31mModuleNotFoundError\u001b[0m                       Traceback (most recent call last)",
      "Cell \u001b[0;32mIn[6], line 1\u001b[0m\n\u001b[0;32m----> 1\u001b[0m \u001b[38;5;28;01mfrom\u001b[39;00m \u001b[38;5;21;01mAssign3\u001b[39;00m \u001b[38;5;28;01mimport\u001b[39;00m \u001b[38;5;241m*\u001b[39m\n\u001b[1;32m      2\u001b[0m \u001b[38;5;28;01mclass\u001b[39;00m \u001b[38;5;21;01mStack\u001b[39;00m(Assign3): \u001b[38;5;66;03m# inhering Assign3 or Linked List Code\u001b[39;00m\n\u001b[1;32m      3\u001b[0m     \u001b[38;5;28;01mdef\u001b[39;00m \u001b[38;5;21m__init__\u001b[39m(\u001b[38;5;28mself\u001b[39m):\n",
      "\u001b[0;31mModuleNotFoundError\u001b[0m: No module named 'Assign3'"
     ]
    }
   ],
   "source": [
    "from Assign3 import *\n",
    "class Stack(Assign3): # inhering Assign3 or Linked List Code\n",
    "    def __init__(self):\n",
    "        super.__init__() # parent class ke __init__() ko call karne ke liye \n",
    "        self.item_count=0"
   ]
  },
  {
   "cell_type": "code",
   "execution_count": 9,
   "id": "f8fa0b7b-6b79-4b3b-9226-6addd78ae4fc",
   "metadata": {},
   "outputs": [
    {
     "ename": "ModuleNotFoundError",
     "evalue": "No module named 'Assign3'",
     "output_type": "error",
     "traceback": [
      "\u001b[0;31m---------------------------------------------------------------------------\u001b[0m",
      "\u001b[0;31mModuleNotFoundError\u001b[0m                       Traceback (most recent call last)",
      "Cell \u001b[0;32mIn[9], line 1\u001b[0m\n\u001b[0;32m----> 1\u001b[0m \u001b[38;5;28;01mfrom\u001b[39;00m \u001b[38;5;21;01mAssign3\u001b[39;00m \u001b[38;5;28;01mimport\u001b[39;00m \u001b[38;5;241m*\u001b[39m\n\u001b[1;32m      2\u001b[0m \u001b[38;5;28;01mclass\u001b[39;00m \u001b[38;5;21;01mStack\u001b[39;00m(Assign3): \u001b[38;5;66;03m# inhering Assign3 or Linked List Code\u001b[39;00m\n\u001b[1;32m      3\u001b[0m     \u001b[38;5;28;01mdef\u001b[39;00m \u001b[38;5;21m__init__\u001b[39m(\u001b[38;5;28mself\u001b[39m):\n",
      "\u001b[0;31mModuleNotFoundError\u001b[0m: No module named 'Assign3'"
     ]
    }
   ],
   "source": [
    "from Assign3 import *\n",
    "class Stack(Assign3): # inhering Assign3 or Linked List Code\n",
    "    def __init__(self):\n",
    "        super().__init__() # parent class ke __init__() ko call karne ke liye \n",
    "        self.item_count=0\n",
    "    \n",
    "    def is_empty(self):\n",
    "        return super().is_empty()\n",
    "        \n",
    "        "
   ]
  },
  {
   "cell_type": "code",
   "execution_count": 13,
   "id": "467839bf-07ea-4755-973c-08c53e1b4172",
   "metadata": {},
   "outputs": [
    {
     "ename": "ModuleNotFoundError",
     "evalue": "No module named 'Assign3'",
     "output_type": "error",
     "traceback": [
      "\u001b[0;31m---------------------------------------------------------------------------\u001b[0m",
      "\u001b[0;31mModuleNotFoundError\u001b[0m                       Traceback (most recent call last)",
      "Cell \u001b[0;32mIn[13], line 1\u001b[0m\n\u001b[0;32m----> 1\u001b[0m \u001b[38;5;28;01mfrom\u001b[39;00m \u001b[38;5;21;01mAssign3\u001b[39;00m\u001b[38;5;21;01m.\u001b[39;00m\u001b[38;5;21;01mipynb\u001b[39;00m \u001b[38;5;28;01mimport\u001b[39;00m \u001b[38;5;241m*\u001b[39m\n\u001b[1;32m      2\u001b[0m \u001b[38;5;28;01mclass\u001b[39;00m \u001b[38;5;21;01mStack\u001b[39;00m(Assign3): \u001b[38;5;66;03m# inhering Assign3 or Linked List Code\u001b[39;00m\n\u001b[1;32m      3\u001b[0m     \u001b[38;5;28;01mdef\u001b[39;00m \u001b[38;5;21m__init__\u001b[39m(\u001b[38;5;28mself\u001b[39m):\n",
      "\u001b[0;31mModuleNotFoundError\u001b[0m: No module named 'Assign3'"
     ]
    }
   ],
   "source": [
    "from Assign3.ipynb import *\n",
    "class Stack(Assign3): # inhering Assign3 or Linked List Code\n",
    "    def __init__(self):\n",
    "        super().__init__() # parent class ke __init__() ko call karne ke liye \n",
    "        self.item_count=0\n",
    "    \n",
    "    def is_empty(self):\n",
    "        return super().is_empty()\n",
    "        \n",
    "        \n",
    "    def push(self,data):\n",
    "        self.insert_at_start(data)\n",
    "        self.item_count+=1"
   ]
  },
  {
   "cell_type": "code",
   "execution_count": 14,
   "id": "527c4339-45a6-4163-9cd0-fdbd6d598352",
   "metadata": {},
   "outputs": [
    {
     "ename": "ModuleNotFoundError",
     "evalue": "No module named 'Assign3'",
     "output_type": "error",
     "traceback": [
      "\u001b[0;31m---------------------------------------------------------------------------\u001b[0m",
      "\u001b[0;31mModuleNotFoundError\u001b[0m                       Traceback (most recent call last)",
      "Cell \u001b[0;32mIn[14], line 1\u001b[0m\n\u001b[0;32m----> 1\u001b[0m \u001b[38;5;28;01mfrom\u001b[39;00m \u001b[38;5;21;01mAssign3\u001b[39;00m\u001b[38;5;21;01m.\u001b[39;00m\u001b[38;5;21;01mipynb\u001b[39;00m \u001b[38;5;28;01mimport\u001b[39;00m \u001b[38;5;241m*\u001b[39m\n\u001b[1;32m      2\u001b[0m \u001b[38;5;28;01mclass\u001b[39;00m \u001b[38;5;21;01mStack\u001b[39;00m(Assign3): \u001b[38;5;66;03m# inhering Assign3 or Linked List Code\u001b[39;00m\n\u001b[1;32m      3\u001b[0m     \u001b[38;5;28;01mdef\u001b[39;00m \u001b[38;5;21m__init__\u001b[39m(\u001b[38;5;28mself\u001b[39m):\n",
      "\u001b[0;31mModuleNotFoundError\u001b[0m: No module named 'Assign3'"
     ]
    }
   ],
   "source": [
    "from Assign3.ipynb import *\n",
    "class Stack(Assign3): # inhering Assign3 or Linked List Code\n",
    "    def __init__(self):\n",
    "        super().__init__() # parent class ke __init__() ko call karne ke liye \n",
    "        self.item_count=0\n",
    "    \n",
    "    def is_empty(self):\n",
    "        return super().is_empty()\n",
    "        \n",
    "        \n",
    "    def push(self,data):\n",
    "        self.insert_at_start(data)\n",
    "        self.item_count+=1\n",
    "        \n",
    "    def pop(self):\n",
    "        self.delete_first()\n",
    "        self.item_count-=1"
   ]
  },
  {
   "cell_type": "code",
   "execution_count": 15,
   "id": "c90c7a3a-114c-4a46-b36c-3cf5c541453e",
   "metadata": {},
   "outputs": [
    {
     "ename": "ModuleNotFoundError",
     "evalue": "No module named 'Assign3'",
     "output_type": "error",
     "traceback": [
      "\u001b[0;31m---------------------------------------------------------------------------\u001b[0m",
      "\u001b[0;31mModuleNotFoundError\u001b[0m                       Traceback (most recent call last)",
      "Cell \u001b[0;32mIn[15], line 1\u001b[0m\n\u001b[0;32m----> 1\u001b[0m \u001b[38;5;28;01mfrom\u001b[39;00m \u001b[38;5;21;01mAssign3\u001b[39;00m\u001b[38;5;21;01m.\u001b[39;00m\u001b[38;5;21;01mipynb\u001b[39;00m \u001b[38;5;28;01mimport\u001b[39;00m\u001b[38;5;241m*\u001b[39m\n\u001b[1;32m      2\u001b[0m \u001b[38;5;28;01mclass\u001b[39;00m \u001b[38;5;21;01mStack\u001b[39;00m(Assign3): \u001b[38;5;66;03m# inhering Assign3 or Linked List Code\u001b[39;00m\n\u001b[1;32m      3\u001b[0m     \u001b[38;5;28;01mdef\u001b[39;00m \u001b[38;5;21m__init__\u001b[39m(\u001b[38;5;28mself\u001b[39m):\n",
      "\u001b[0;31mModuleNotFoundError\u001b[0m: No module named 'Assign3'"
     ]
    }
   ],
   "source": [
    "from Assign3.ipynb import*\n",
    "class Stack(Assign3): # inhering Assign3 or Linked List Code\n",
    "    def __init__(self):\n",
    "        super().__init__() # parent class ke __init__() ko call karne ke liye \n",
    "        self.item_count=0\n",
    "    \n",
    "    def is_empty(self):\n",
    "        return super().is_empty()\n",
    "        \n",
    "        \n",
    "    def push(self,data):\n",
    "        self.insert_at_start(data)\n",
    "        self.item_count+=1\n",
    "        \n",
    "    def pop(self):\n",
    "        self.delete_first()\n",
    "        self.item_count-=1"
   ]
  },
  {
   "cell_type": "code",
   "execution_count": 16,
   "id": "b7248c82-87a4-4b78-9e10-7d83f3cf4619",
   "metadata": {},
   "outputs": [
    {
     "ename": "ModuleNotFoundError",
     "evalue": "No module named 'Assign3'",
     "output_type": "error",
     "traceback": [
      "\u001b[0;31m---------------------------------------------------------------------------\u001b[0m",
      "\u001b[0;31mModuleNotFoundError\u001b[0m                       Traceback (most recent call last)",
      "Cell \u001b[0;32mIn[16], line 1\u001b[0m\n\u001b[0;32m----> 1\u001b[0m \u001b[38;5;28;01mfrom\u001b[39;00m \u001b[38;5;21;01mAssign3\u001b[39;00m\u001b[38;5;21;01m.\u001b[39;00m\u001b[38;5;21;01mipynb\u001b[39;00m \u001b[38;5;28;01mimport\u001b[39;00m \u001b[38;5;241m*\u001b[39m\n\u001b[1;32m      2\u001b[0m \u001b[38;5;28;01mclass\u001b[39;00m \u001b[38;5;21;01mStack\u001b[39;00m(Assign3): \u001b[38;5;66;03m# inhering Assign3 or Linked List Code\u001b[39;00m\n\u001b[1;32m      3\u001b[0m     \u001b[38;5;28;01mdef\u001b[39;00m \u001b[38;5;21m__init__\u001b[39m(\u001b[38;5;28mself\u001b[39m):\n",
      "\u001b[0;31mModuleNotFoundError\u001b[0m: No module named 'Assign3'"
     ]
    }
   ],
   "source": [
    "from Assign3.ipynb import *\n",
    "class Stack(Assign3): # inhering Assign3 or Linked List Code\n",
    "    def __init__(self):\n",
    "        super().__init__() # parent class ke __init__() ko call karne ke liye \n",
    "        self.item_count=0\n",
    "    \n",
    "    def is_empty(self):\n",
    "        return super().is_empty()\n",
    "        \n",
    "        \n",
    "    def push(self,data):\n",
    "        self.insert_at_start(data)\n",
    "        self.item_count+=1\n",
    "        \n",
    "    def pop(self):\n",
    "        return self.delete_first()\n",
    "        self.item_count-=1\n",
    "        \n",
    "    def peek(self):\n",
    "        self"
   ]
  },
  {
   "cell_type": "code",
   "execution_count": 19,
   "id": "17ed7231-5630-4f34-ab94-b3432eb642dc",
   "metadata": {},
   "outputs": [
    {
     "ename": "ModuleNotFoundError",
     "evalue": "No module named 'Assign3'",
     "output_type": "error",
     "traceback": [
      "\u001b[0;31m---------------------------------------------------------------------------\u001b[0m",
      "\u001b[0;31mModuleNotFoundError\u001b[0m                       Traceback (most recent call last)",
      "Cell \u001b[0;32mIn[19], line 1\u001b[0m\n\u001b[0;32m----> 1\u001b[0m \u001b[38;5;28;01mfrom\u001b[39;00m \u001b[38;5;21;01mAssign3\u001b[39;00m\u001b[38;5;21;01m.\u001b[39;00m\u001b[38;5;21;01mipynb\u001b[39;00m \u001b[38;5;28;01mimport\u001b[39;00m \u001b[38;5;241m*\u001b[39m\n\u001b[1;32m      2\u001b[0m \u001b[38;5;28;01mclass\u001b[39;00m \u001b[38;5;21;01mStack\u001b[39;00m(Assign3): \u001b[38;5;66;03m# inhering Assign3 or Linked List Code\u001b[39;00m\n\u001b[1;32m      3\u001b[0m     \u001b[38;5;28;01mdef\u001b[39;00m \u001b[38;5;21m__init__\u001b[39m(\u001b[38;5;28mself\u001b[39m):\n",
      "\u001b[0;31mModuleNotFoundError\u001b[0m: No module named 'Assign3'"
     ]
    }
   ],
   "source": [
    "from Assign3.ipynb import *\n",
    "class Stack(Assign3): # inhering Assign3 or Linked List Code\n",
    "    def __init__(self):\n",
    "        super().__init__() # parent class ke __init__() ko call karne ke liye \n",
    "        self.item_count=0\n",
    "    \n",
    "    def is_empty(self):\n",
    "        return super().is_empty()\n",
    "        \n",
    "        \n",
    "    def push(self,data):\n",
    "        self.insert_at_start(data)\n",
    "        self.item_count+=1\n",
    "        \n",
    "    def pop(self):\n",
    "        if not self.is_empty():\n",
    "            return self.delete_first()\n",
    "            self.item_count-=1\n",
    "        \n",
    "    def peek(self):\n",
    "        if not self.is_empty():\n",
    "            return self.start.item\n",
    "        else:\n",
    "            raise IndexError(\"Stack is empty\")"
   ]
  },
  {
   "cell_type": "code",
   "execution_count": 22,
   "id": "cfdef3d8-ea5c-4f2f-8ce9-7c97956d9a84",
   "metadata": {},
   "outputs": [
    {
     "ename": "ModuleNotFoundError",
     "evalue": "No module named 'Assign3'",
     "output_type": "error",
     "traceback": [
      "\u001b[0;31m---------------------------------------------------------------------------\u001b[0m",
      "\u001b[0;31mModuleNotFoundError\u001b[0m                       Traceback (most recent call last)",
      "Cell \u001b[0;32mIn[22], line 1\u001b[0m\n\u001b[0;32m----> 1\u001b[0m \u001b[38;5;28;01mfrom\u001b[39;00m \u001b[38;5;21;01mAssign3\u001b[39;00m \u001b[38;5;28;01mimport\u001b[39;00m \u001b[38;5;241m*\u001b[39m\n\u001b[1;32m      2\u001b[0m \u001b[38;5;28;01mclass\u001b[39;00m \u001b[38;5;21;01mStack\u001b[39;00m(Assign3): \u001b[38;5;66;03m# inhering Assign3 or Linked List Code\u001b[39;00m\n\u001b[1;32m      3\u001b[0m     \u001b[38;5;28;01mdef\u001b[39;00m \u001b[38;5;21m__init__\u001b[39m(\u001b[38;5;28mself\u001b[39m):\n",
      "\u001b[0;31mModuleNotFoundError\u001b[0m: No module named 'Assign3'"
     ]
    }
   ],
   "source": [
    "from Assign3 import *\n",
    "class Stack(Assign3): # inhering Assign3 or Linked List Code\n",
    "    def __init__(self):\n",
    "        super().__init__() # parent class ke __init__() ko call karne ke liye \n",
    "        self.item_count=0\n",
    "    \n",
    "    def is_empty(self):\n",
    "        return super().is_empty()\n",
    "        \n",
    "        \n",
    "    def push(self,data):\n",
    "        self.insert_at_start(data)\n",
    "        self.item_count+=1\n",
    "        \n",
    "    def pop(self):\n",
    "        if not self.is_empty():\n",
    "            return self.delete_first()\n",
    "            self.item_count-=1\n",
    "        \n",
    "    def peek(self):\n",
    "        if not self.is_empty():\n",
    "            return self.start.item\n",
    "        else:\n",
    "            raise IndexError(\"Stack is empty\")\n",
    "            \n",
    "    def size(self):\n",
    "        return self.item_count\n",
    "    \n",
    "s1=Stack()\n",
    "s1.push(10)\n",
    "s1.push(20)\n",
    "s1.push(30)\n",
    "print(\"Top element of the stakc \", s1.peek())\n",
    "s1.pop()\n",
    "print(\"Top element of the stakc \", s1.peek())"
   ]
  },
  {
   "cell_type": "code",
   "execution_count": null,
   "id": "978c4c3c-bdcd-4ffc-9e55-4b506e93431c",
   "metadata": {},
   "outputs": [],
   "source": []
  }
 ],
 "metadata": {
  "kernelspec": {
   "display_name": "Python 3 (ipykernel)",
   "language": "python",
   "name": "python3"
  },
  "language_info": {
   "codemirror_mode": {
    "name": "ipython",
    "version": 3
   },
   "file_extension": ".py",
   "mimetype": "text/x-python",
   "name": "python",
   "nbconvert_exporter": "python",
   "pygments_lexer": "ipython3",
   "version": "3.10.8"
  }
 },
 "nbformat": 4,
 "nbformat_minor": 5
}
