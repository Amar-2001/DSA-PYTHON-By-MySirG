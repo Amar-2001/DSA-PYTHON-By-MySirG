{
 "cells": [
  {
   "cell_type": "code",
   "execution_count": 1,
   "id": "394bf120-95d8-4d66-bf59-b97dc8f7c472",
   "metadata": {},
   "outputs": [],
   "source": [
    "# Circular doubly link list\n"
   ]
  },
  {
   "cell_type": "code",
   "execution_count": 2,
   "id": "3ad5808b-930c-4841-aed8-52192bca4700",
   "metadata": {},
   "outputs": [
    {
     "ename": "NameError",
     "evalue": "name 'item' is not defined",
     "output_type": "error",
     "traceback": [
      "\u001b[0;31m---------------------------------------------------------------------------\u001b[0m",
      "\u001b[0;31mNameError\u001b[0m                                 Traceback (most recent call last)",
      "Cell \u001b[0;32mIn[2], line 2\u001b[0m\n\u001b[1;32m      1\u001b[0m \u001b[38;5;66;03m# Insert at start\u001b[39;00m\n\u001b[0;32m----> 2\u001b[0m n\u001b[38;5;241m.\u001b[39mitem\u001b[38;5;241m=\u001b[39m\u001b[43mitem\u001b[49m\n\u001b[1;32m      3\u001b[0m n\u001b[38;5;241m.\u001b[39mprev\u001b[38;5;241m=\u001b[39mstart\u001b[38;5;241m.\u001b[39mprev \u001b[38;5;66;03m# n ke prev mein last node\u001b[39;00m\n\u001b[1;32m      4\u001b[0m n\u001b[38;5;241m.\u001b[39mnext\u001b[38;5;241m=\u001b[39mstart\u001b[38;5;66;03m# n ke next mein start \u001b[39;00m\n",
      "\u001b[0;31mNameError\u001b[0m: name 'item' is not defined"
     ]
    }
   ],
   "source": [
    "# Insert at start\n",
    "n.item=item\n",
    "n.prev=start.prev # n ke prev mein last node\n",
    "n.next=start# n ke next mein start \n",
    "\n",
    "# uske baad\n",
    "start.prev.next = n # yaani last node ke next mein n (new node)\n",
    "start.prev=n # start ke prev mein n(new node)\n",
    "start=n # start mein neew node\n"
   ]
  },
  {
   "cell_type": "code",
   "execution_count": 3,
   "id": "3ed32ae8-9b01-42c3-b476-d3674a519e1e",
   "metadata": {},
   "outputs": [
    {
     "ename": "NameError",
     "evalue": "name 'data' is not defined",
     "output_type": "error",
     "traceback": [
      "\u001b[0;31m---------------------------------------------------------------------------\u001b[0m",
      "\u001b[0;31mNameError\u001b[0m                                 Traceback (most recent call last)",
      "Cell \u001b[0;32mIn[3], line 3\u001b[0m\n\u001b[1;32m      1\u001b[0m \u001b[38;5;66;03m# insert at last\u001b[39;00m\n\u001b[0;32m----> 3\u001b[0m n\u001b[38;5;241m.\u001b[39mitem\u001b[38;5;241m=\u001b[39m\u001b[43mdata\u001b[49m\n\u001b[1;32m      4\u001b[0m n\u001b[38;5;241m.\u001b[39mprev\u001b[38;5;241m=\u001b[39mstart\u001b[38;5;241m.\u001b[39mprev \u001b[38;5;66;03m# n ka prev mein start ka prev(yaani last node)\u001b[39;00m\n\u001b[1;32m      5\u001b[0m n\u001b[38;5;241m.\u001b[39mnext\u001b[38;5;241m=\u001b[39mstart\u001b[38;5;66;03m# n ka next mein start \u001b[39;00m\n",
      "\u001b[0;31mNameError\u001b[0m: name 'data' is not defined"
     ]
    }
   ],
   "source": [
    "# insert at last\n",
    "\n",
    "n.item=data\n",
    "n.prev=start.prev # n ka prev mein start ka prev(yaani last node)\n",
    "n.next=start# n ka next mein start \n",
    "\n",
    "start.prev.next=n # start ke prev ke next (last node ka next mein new node(n) rakh do)\n",
    "start.prev=n # start ka prev(start ke baad jo prev hai pehla node)mein new node rakh do\n",
    "\n",
    "\n"
   ]
  },
  {
   "cell_type": "code",
   "execution_count": 4,
   "id": "1e8f7501-0392-4eaa-9d4f-3259563ca64d",
   "metadata": {},
   "outputs": [
    {
     "ename": "NameError",
     "evalue": "name 'data' is not defined",
     "output_type": "error",
     "traceback": [
      "\u001b[0;31m---------------------------------------------------------------------------\u001b[0m",
      "\u001b[0;31mNameError\u001b[0m                                 Traceback (most recent call last)",
      "Cell \u001b[0;32mIn[4], line 3\u001b[0m\n\u001b[1;32m      1\u001b[0m \u001b[38;5;66;03m# Insert after\u001b[39;00m\n\u001b[0;32m----> 3\u001b[0m n\u001b[38;5;241m.\u001b[39mitem\u001b[38;5;241m=\u001b[39m\u001b[43mdata\u001b[49m\n\u001b[1;32m      4\u001b[0m n\u001b[38;5;241m.\u001b[39mprev\u001b[38;5;241m=\u001b[39mtemp \u001b[38;5;66;03m# n ke prev mein temp(jo node ke baad data add karna chahte thay)\u001b[39;00m\n\u001b[1;32m      5\u001b[0m n\u001b[38;5;241m.\u001b[39mnext\u001b[38;5;241m=\u001b[39mtemp\u001b[38;5;241m.\u001b[39mnext \u001b[38;5;66;03m# n ke next mein temp ka next(temp jisko point kar raha uske aage wala node )\u001b[39;00m\n",
      "\u001b[0;31mNameError\u001b[0m: name 'data' is not defined"
     ]
    }
   ],
   "source": [
    "# Insert after\n",
    "\n",
    "n.item=data\n",
    "n.prev=temp # n ke prev mein temp(jo node ke baad data add karna chahte thay)\n",
    "n.next=temp.next # n ke next mein temp ka next(temp jisko point kar raha uske aage wala node )\n",
    "\n",
    "temp.next= n\n",
    "temp.next.prev=n"
   ]
  },
  {
   "cell_type": "code",
   "execution_count": 5,
   "id": "5c8dcbd8-5b26-49b7-9b6e-8d9ae06883e4",
   "metadata": {},
   "outputs": [
    {
     "ename": "NameError",
     "evalue": "name 'start' is not defined",
     "output_type": "error",
     "traceback": [
      "\u001b[0;31m---------------------------------------------------------------------------\u001b[0m",
      "\u001b[0;31mNameError\u001b[0m                                 Traceback (most recent call last)",
      "Cell \u001b[0;32mIn[5], line 3\u001b[0m\n\u001b[1;32m      1\u001b[0m \u001b[38;5;66;03m# Delete First\u001b[39;00m\n\u001b[0;32m----> 3\u001b[0m start\u001b[38;5;241m.\u001b[39mprev\u001b[38;5;241m.\u001b[39mnext\u001b[38;5;241m=\u001b[39m\u001b[43mstart\u001b[49m\u001b[38;5;241m.\u001b[39mnext\u001b[38;5;66;03m# start ke prev ke next(last node ke next) mein start ka next(2nd node)\u001b[39;00m\n\u001b[1;32m      4\u001b[0m start\u001b[38;5;241m.\u001b[39mnext\u001b[38;5;241m.\u001b[39mprev\u001b[38;5;241m=\u001b[39mstart\u001b[38;5;241m.\u001b[39mprev \u001b[38;5;66;03m# start ke next ke prev(2nd node ke prev) mein start ka prev(last node)\u001b[39;00m\n\u001b[1;32m      5\u001b[0m start\u001b[38;5;241m=\u001b[39mstart\u001b[38;5;241m.\u001b[39mnext \u001b[38;5;66;03m# start point karne lage 2nd node ko\u001b[39;00m\n",
      "\u001b[0;31mNameError\u001b[0m: name 'start' is not defined"
     ]
    }
   ],
   "source": [
    "# Delete First\n",
    "\n",
    "start.prev.next=start.next# start ke prev ke next(last node ke next) mein start ka next(2nd node)\n",
    "start.next.prev=start.prev # start ke next ke prev(2nd node ke prev) mein start ka prev(last node)\n",
    "start=start.next # start point karne lage 2nd node ko\n"
   ]
  },
  {
   "cell_type": "code",
   "execution_count": 6,
   "id": "f876fa1d-5f36-42e5-b641-8b37f454277e",
   "metadata": {},
   "outputs": [
    {
     "ename": "NameError",
     "evalue": "name 'start' is not defined",
     "output_type": "error",
     "traceback": [
      "\u001b[0;31m---------------------------------------------------------------------------\u001b[0m",
      "\u001b[0;31mNameError\u001b[0m                                 Traceback (most recent call last)",
      "Cell \u001b[0;32mIn[6], line 3\u001b[0m\n\u001b[1;32m      1\u001b[0m \u001b[38;5;66;03m# Delete Last\u001b[39;00m\n\u001b[0;32m----> 3\u001b[0m start\u001b[38;5;241m.\u001b[39mprev\u001b[38;5;241m.\u001b[39mprev\u001b[38;5;241m.\u001b[39mnext\u001b[38;5;241m=\u001b[39m\u001b[43mstart\u001b[49m \u001b[38;5;66;03m# start ke prev ke prev ke next(2nd last node ke next) mein start \u001b[39;00m\n\u001b[1;32m      4\u001b[0m start\u001b[38;5;241m.\u001b[39mprev\u001b[38;5;241m=\u001b[39mstart\u001b[38;5;241m.\u001b[39mprev\u001b[38;5;241m.\u001b[39mprev\u001b[38;5;66;03m# start ke prev mein start ke prev ka prev(2nd last node)\u001b[39;00m\n",
      "\u001b[0;31mNameError\u001b[0m: name 'start' is not defined"
     ]
    }
   ],
   "source": [
    "# Delete Last\n",
    "\n",
    "start.prev.prev.next=start # start ke prev ke prev ke next(2nd last node ke next) mein start \n",
    "start.prev=start.prev.prev# start ke prev mein start ke prev ka prev(2nd last node)\n"
   ]
  },
  {
   "cell_type": "code",
   "execution_count": 7,
   "id": "81547ef7-24d3-4bd1-bc8f-8f85c461812a",
   "metadata": {},
   "outputs": [
    {
     "ename": "NameError",
     "evalue": "name 'temp' is not defined",
     "output_type": "error",
     "traceback": [
      "\u001b[0;31m---------------------------------------------------------------------------\u001b[0m",
      "\u001b[0;31mNameError\u001b[0m                                 Traceback (most recent call last)",
      "Cell \u001b[0;32mIn[7], line 3\u001b[0m\n\u001b[1;32m      1\u001b[0m \u001b[38;5;66;03m# Delete Particular node\u001b[39;00m\n\u001b[0;32m----> 3\u001b[0m temp\u001b[38;5;241m.\u001b[39mprev\u001b[38;5;241m.\u001b[39mnext\u001b[38;5;241m=\u001b[39m\u001b[43mtemp\u001b[49m\u001b[38;5;241m.\u001b[39mnext\u001b[38;5;66;03m# temp ke prev ke next mein temp ka next(temp ke aage wala node)\u001b[39;00m\n\u001b[1;32m      4\u001b[0m temp\u001b[38;5;241m.\u001b[39mnext\u001b[38;5;241m.\u001b[39mprev\u001b[38;5;241m=\u001b[39mtemp\u001b[38;5;241m.\u001b[39mprev \u001b[38;5;66;03m# temp ke next ke prev mein temp ka prev(temp ka pichla node)\u001b[39;00m\n",
      "\u001b[0;31mNameError\u001b[0m: name 'temp' is not defined"
     ]
    }
   ],
   "source": [
    "# Delete Particular node\n",
    "\n",
    "temp.prev.next=temp.next# temp ke prev ke next mein temp ka next(temp ke aage wala node)\n",
    "temp.next.prev=temp.prev # temp ke next ke prev mein temp ka prev(temp ka pichla node)"
   ]
  },
  {
   "cell_type": "code",
   "execution_count": 1,
   "id": "d3d7f8da-6065-4504-945b-2af0067145a2",
   "metadata": {},
   "outputs": [],
   "source": [
    "# A priority queue is a collection of elements such that each elements has been configured a priority.\n",
    "# The order of deletion or processing comes from the following rules:\n",
    "\n",
    "# (i). An elements of higher priority is processed before priority of lower elements.\n",
    "# (ii). Two elements of same priority are processed according to order in which they were added \n",
    "#       in the priority queue.\n",
    "    "
   ]
  },
  {
   "cell_type": "code",
   "execution_count": 2,
   "id": "cf815f45-ede7-41a5-8067-ad45d68ac2a8",
   "metadata": {},
   "outputs": [],
   "source": [
    "# Operations of prioriy Queue:\n",
    "#     1.push\n",
    "#     2.pop\n",
    "#     3.is_empty \n",
    "#     4.size"
   ]
  },
  {
   "cell_type": "code",
   "execution_count": 3,
   "id": "cb540fef-e8e0-4a75-a064-9d8a07e2ef5b",
   "metadata": {},
   "outputs": [],
   "source": [
    "# # Implementation of priority Queue\n",
    "# 1.Using List\n",
    "# 2.Using Linked List\n",
    "# 3.Using Heap(will see later)"
   ]
  },
  {
   "cell_type": "code",
   "execution_count": null,
   "id": "97f9dcf4-8354-4c47-a011-4e43e4878b64",
   "metadata": {},
   "outputs": [],
   "source": []
  }
 ],
 "metadata": {
  "kernelspec": {
   "display_name": "Python 3 (ipykernel)",
   "language": "python",
   "name": "python3"
  },
  "language_info": {
   "codemirror_mode": {
    "name": "ipython",
    "version": 3
   },
   "file_extension": ".py",
   "mimetype": "text/x-python",
   "name": "python",
   "nbconvert_exporter": "python",
   "pygments_lexer": "ipython3",
   "version": "3.10.8"
  }
 },
 "nbformat": 4,
 "nbformat_minor": 5
}
