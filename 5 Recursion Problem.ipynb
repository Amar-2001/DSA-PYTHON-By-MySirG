{
 "cells": [
  {
   "cell_type": "code",
   "execution_count": 1,
   "id": "7db4049e-3d67-480d-b860-4e7fb578c031",
   "metadata": {},
   "outputs": [],
   "source": [
    "# 3 step to solve an recursive problem\n",
    "            # Step 1. SumN(n)  #  feel as if ban chuka hai code like sumN(5)=15\n",
    "              # Step 2. n+SumN(n) # recursion form or short form 5+(4+3+2+1)=15\n",
    "            # Step 3.  n==0 # base case yaani jab ruke "
   ]
  },
  {
   "cell_type": "code",
   "execution_count": 3,
   "id": "0e03f7c6-1972-4ca6-ba85-0b688c2ff576",
   "metadata": {},
   "outputs": [
    {
     "data": {
      "text/plain": [
       "15"
      ]
     },
     "execution_count": 3,
     "metadata": {},
     "output_type": "execute_result"
    }
   ],
   "source": [
    "# First N natural numbers\n",
    "\n",
    "def sumN(n):\n",
    "    if n==1:\n",
    "        return 1\n",
    "    else:\n",
    "        return n+sumN(n-1)\n",
    "sumN(5)"
   ]
  },
  {
   "cell_type": "code",
   "execution_count": 6,
   "id": "cd02152c-774a-4b31-9023-ee0e4bbc72e1",
   "metadata": {},
   "outputs": [
    {
     "data": {
      "text/plain": [
       "25"
      ]
     },
     "execution_count": 6,
     "metadata": {},
     "output_type": "execute_result"
    }
   ],
   "source": [
    "# First N odd natural number by recursion\n",
    "\n",
    "def sumOdd(n):\n",
    "    if n==1:\n",
    "        return 1\n",
    "    else:\n",
    "        return 2*n-1 +sumOdd(n-1)\n",
    "sumOdd(5)"
   ]
  },
  {
   "cell_type": "code",
   "execution_count": 13,
   "id": "86b12b8c-25fc-4e4f-94c9-9532d8379d0a",
   "metadata": {},
   "outputs": [
    {
     "data": {
      "text/plain": [
       "110"
      ]
     },
     "execution_count": 13,
     "metadata": {},
     "output_type": "execute_result"
    }
   ],
   "source": [
    "\n",
    "def sumEven(n):\n",
    "    if n==1:\n",
    "        return 2\n",
    "    return 2*n +sumEven(n-1)\n",
    "sumEven(10)"
   ]
  },
  {
   "cell_type": "code",
   "execution_count": 14,
   "id": "3a50f6fa-5c73-4fc5-8f3a-3c6da5c85ebd",
   "metadata": {},
   "outputs": [
    {
     "data": {
      "text/plain": [
       "120"
      ]
     },
     "execution_count": 14,
     "metadata": {},
     "output_type": "execute_result"
    }
   ],
   "source": [
    "\n",
    "def fact(n):\n",
    "    if n==1:\n",
    "        return 1\n",
    "    return n*fact(n-1)\n",
    "\n",
    "fact(5)"
   ]
  },
  {
   "cell_type": "code",
   "execution_count": 20,
   "id": "2788880c-56ff-4b26-88c9-687115c76455",
   "metadata": {},
   "outputs": [
    {
     "data": {
      "text/plain": [
       "14"
      ]
     },
     "execution_count": 20,
     "metadata": {},
     "output_type": "execute_result"
    }
   ],
   "source": [
    "\n",
    "\n",
    "def squareSum(n):\n",
    "    if n==1:\n",
    "        return 1\n",
    "    else:\n",
    "        return n*n + squareSum(n-1)\n",
    "        # total=0\n",
    "        # total = total + n*n             # 0+9=9  9+4=13  13+1=14 Base case reached\n",
    "        # return total+squareSum(n-1)     #9+s(2) 13+ s(1)  14 ans\n",
    "squareSum(3)"
   ]
  },
  {
   "cell_type": "code",
   "execution_count": null,
   "id": "b8703d84-90b7-4433-87e5-88ef9e4ab953",
   "metadata": {},
   "outputs": [],
   "source": []
  }
 ],
 "metadata": {
  "kernelspec": {
   "display_name": "Python 3 (ipykernel)",
   "language": "python",
   "name": "python3"
  },
  "language_info": {
   "codemirror_mode": {
    "name": "ipython",
    "version": 3
   },
   "file_extension": ".py",
   "mimetype": "text/x-python",
   "name": "python",
   "nbconvert_exporter": "python",
   "pygments_lexer": "ipython3",
   "version": "3.10.8"
  }
 },
 "nbformat": 4,
 "nbformat_minor": 5
}
