{
 "cells": [
  {
   "cell_type": "code",
   "execution_count": 43,
   "id": "0d13f2e2-65ab-4cdd-94e7-e17f2a79afa2",
   "metadata": {},
   "outputs": [],
   "source": [
    "# # Class and object\n",
    "\n",
    "# Class \n",
    "# Attributes \n",
    "# objects \n",
    "# Encapsulation\n",
    "#__init__\n"
   ]
  },
  {
   "cell_type": "code",
   "execution_count": 44,
   "id": "d72474c7-6657-48ac-8a2b-697828ecdd32",
   "metadata": {},
   "outputs": [],
   "source": [
    "# class : class is a description of an class\n",
    "# class test attributes(attribute means variable and functions)\n",
    "\n",
    "# common noun :- class  like doctor , teacher\n",
    "# proper noun :- object like Bindra , Sourabh shukla Guru G\n",
    "\n",
    "# object has its properties and can perform actions \n",
    "# object is a real world entity\n",
    "# object is an instance of a class\n",
    "# object are of two types: - class object and instance objects\n",
    "#******************\n",
    "# c++ aur java mein instance object ko hi class object kehte hai \n",
    "# but Python mein class object and instance object alag hote hai \n",
    "\n",
    "\n",
    "\n",
    "# class is a group of variables and function\n",
    "# class is way to implement Encapsulation\n",
    "# class is a blueprint of the an object or real world entity.\n",
    "# class is a description of an object\n",
    "\n",
    "\n",
    "# class has function and variables which is known as attribute\n",
    "\n",
    "\n",
    "# Attribute are member variable and member function\n",
    "\n"
   ]
  },
  {
   "cell_type": "code",
   "execution_count": 12,
   "id": "91ad37be-96b6-4ba1-9654-911071ff091c",
   "metadata": {},
   "outputs": [],
   "source": [
    "# Encapsulation:- An act of combining of properties and methods \n",
    "#                 realated to same object is know n as Encapsulation\n",
    "\n",
    "# Amar.running() \n",
    "# Here Amar is a noun or technically we say object\n",
    "# and running is a verb and here it is technically said to be function\n",
    "# running se wo calories burn kar sakta hai\n",
    "\n"
   ]
  },
  {
   "cell_type": "code",
   "execution_count": 13,
   "id": "ef1b6deb-dd48-4012-9001-20adf568690c",
   "metadata": {},
   "outputs": [
    {
     "ename": "AttributeError",
     "evalue": "'list' object has no attribute 'show'",
     "output_type": "error",
     "traceback": [
      "\u001b[0;31m---------------------------------------------------------------------------\u001b[0m",
      "\u001b[0;31mAttributeError\u001b[0m                            Traceback (most recent call last)",
      "Cell \u001b[0;32mIn[13], line 3\u001b[0m\n\u001b[1;32m      1\u001b[0m l1\u001b[38;5;241m=\u001b[39m[\u001b[38;5;241m1\u001b[39m,\u001b[38;5;241m2\u001b[39m,\u001b[38;5;241m3\u001b[39m]\n\u001b[1;32m      2\u001b[0m l1\u001b[38;5;241m.\u001b[39mappend(\u001b[38;5;241m11\u001b[39m)\n\u001b[0;32m----> 3\u001b[0m \u001b[43ml1\u001b[49m\u001b[38;5;241;43m.\u001b[39;49m\u001b[43mshow\u001b[49m()\n\u001b[1;32m      5\u001b[0m \u001b[38;5;66;03m# atttribute error means python do not have show() \u001b[39;00m\n\u001b[1;32m      6\u001b[0m \u001b[38;5;66;03m# show function \u001b[39;00m\n\u001b[1;32m      7\u001b[0m \u001b[38;5;66;03m# Here it proved that fucntion and variable is called attribute\u001b[39;00m\n",
      "\u001b[0;31mAttributeError\u001b[0m: 'list' object has no attribute 'show'"
     ]
    }
   ],
   "source": [
    "l1=[1,2,3]\n",
    "l1.append(11)\n",
    "l1.show()\n",
    "\n",
    "# atttribute error means python do not have show() \n",
    "# show function \n",
    "# Here it proved that fucntion and variable is called attribute"
   ]
  },
  {
   "cell_type": "code",
   "execution_count": 14,
   "id": "01e7260b-3065-4ad8-bcc4-51a3190bb56e",
   "metadata": {},
   "outputs": [],
   "source": [
    "# ***************************************"
   ]
  },
  {
   "cell_type": "code",
   "execution_count": 19,
   "id": "2ab646c3-d021-4673-b364-9d834811c2c3",
   "metadata": {},
   "outputs": [
    {
     "name": "stdout",
     "output_type": "stream",
     "text": [
      "Hello\n",
      "Hello\n"
     ]
    }
   ],
   "source": [
    "class test:\n",
    "    x=5 # here it is class object \n",
    "    def func(self):\n",
    "        print(\"Hello\")\n",
    "\n",
    "obj=test() # after writing obj=test() again in lower line its\n",
    "            # its  memrory will automatically manange because\n",
    "#                python has memory manangement tool present inbuilt\n",
    "obj2=test()\n",
    "obj=test()# again \n",
    "\n",
    "obj.func()\n",
    "obj2.func()\n",
    "\n",
    "# here obj and obj1 are instance object not class object\n"
   ]
  },
  {
   "cell_type": "code",
   "execution_count": 45,
   "id": "1217e9f6-761e-4000-ae3c-b8820d574c3f",
   "metadata": {},
   "outputs": [
    {
     "name": "stdout",
     "output_type": "stream",
     "text": [
      "Hello\n",
      "Hello\n"
     ]
    }
   ],
   "source": [
    "# class object\n",
    "\n",
    "# test vs test()\n",
    "\n",
    "# test:= without parenthesis means aap uska reference represent\n",
    "# test():= with parenthesis represent function call represent\n",
    "\n",
    "# one class has exactly one class ojbect but\n",
    "# can have any number of instance object\n",
    "\n",
    "\n",
    "# **********************************************\n",
    "class test: # class object\n",
    "    x=5 # class object\n",
    "    def func(self):\n",
    "        print(\"Hello\")\n",
    "\n",
    "obj=test() # after writing obj=test() again in lower line its\n",
    "            # its  memrory will automatically manange because\n",
    "#                python has memory manangement tool present inbuilt\n",
    "obj2=test()\n",
    "obj=test()# again \n",
    "\n",
    "obj.func()\n",
    "obj2.func()\n",
    "\n",
    "# here obj and obj1 are instance object not class object\n",
    "# *******************************************************\n",
    "\n",
    "\n",
    "# Here test= class object or common noun\n",
    "# obj, obj1 is instance object or proper noun\n",
    "# x is also class object variable\n",
    "# class ki body ke andar kabhi bhi instance object varaible nahi bana sakte\n",
    "\n",
    "# class object variable : static varialbe\n",
    "# instance object variable : \n"
   ]
  },
  {
   "cell_type": "code",
   "execution_count": 46,
   "id": "fb5695c8-eee6-4fce-8e8b-74adb2b1ec82",
   "metadata": {},
   "outputs": [
    {
     "data": {
      "text/plain": [
       "8"
      ]
     },
     "execution_count": 46,
     "metadata": {},
     "output_type": "execute_result"
    }
   ],
   "source": [
    "# __init__() method\n",
    "\n",
    "class test:\n",
    "    def __init__(self):\n",
    "        self.a=5\n",
    "        self.b=8\n",
    "obj=test()\n",
    "obj2=test()\n",
    "\n",
    "obj.a\n",
    "obj.b\n",
    "\n",
    "obj2.a\n",
    "obj2.b\n",
    "\n",
    "# a and b are instance object varialbe"
   ]
  },
  {
   "cell_type": "code",
   "execution_count": 30,
   "id": "2d0123ee-1506-4f71-b986-2e959e749f29",
   "metadata": {},
   "outputs": [
    {
     "name": "stdout",
     "output_type": "stream",
     "text": [
      "5 8\n",
      "5 8\n"
     ]
    }
   ],
   "source": [
    "# __init__() method\n",
    "\n",
    "class test:\n",
    "    def __init__(self):\n",
    "        self.a=5\n",
    "        self.b=8\n",
    "obj=test()\n",
    "obj2=test()\n",
    "\n",
    "print(obj.a, obj.b)\n",
    "print(obj2.a, obj2.b)\n",
    "\n",
    "# a and b are instance object varialbe"
   ]
  },
  {
   "cell_type": "code",
   "execution_count": 42,
   "id": "08f7189f-cee4-4921-baeb-85c1972112fb",
   "metadata": {},
   "outputs": [
    {
     "name": "stdout",
     "output_type": "stream",
     "text": [
      "10 20\n",
      "11 22\n",
      "Hello Static method\n",
      "5\n"
     ]
    }
   ],
   "source": [
    "# Again\n",
    "\n",
    "class Test: # test is a class object\n",
    "    x=5 # x is a class object \n",
    "    \n",
    "    def __init__(self,a,b):\n",
    "        self.a=a\n",
    "        self.b=b\n",
    "    \n",
    "    def show(self):\n",
    "        print(self.a,self.b)\n",
    "    \n",
    "    @staticmethod\n",
    "    def f1():\n",
    "        print(\"Hello Static method\")\n",
    "        \n",
    "    @classmethod\n",
    "    def f2(cls):\n",
    "        print(cls.x) # cls se x ko access kar rahe \n",
    "        \n",
    "obj=Test(10,20)\n",
    "obj2=Test(11,22)\n",
    "\n",
    "obj.show()\n",
    "obj2.show()\n",
    "\n",
    "\n",
    "# accessing staticmethod\n",
    "Test. f1()\n",
    "\n",
    "# accessing class method\n",
    "Test.f2()"
   ]
  },
  {
   "cell_type": "code",
   "execution_count": null,
   "id": "67b63f42-ed39-48ec-8283-4ccf3284ee1b",
   "metadata": {},
   "outputs": [],
   "source": []
  },
  {
   "cell_type": "code",
   "execution_count": 47,
   "id": "c67f0c2f-fc1d-4ad3-8f77-57c3d6cd2bff",
   "metadata": {},
   "outputs": [
    {
     "name": "stdout",
     "output_type": "stream",
     "text": [
      "Rahul 11 500000\n",
      "Aman 10 480000\n"
     ]
    }
   ],
   "source": [
    "class Employee:\n",
    "    def __init__(self, name=None, id=None, salary=None): # agar kuch nahi hoga value toh automatically none print hoga\n",
    "            self.name=name\n",
    "            self.id=id\n",
    "            self.salary=salary\n",
    "            \n",
    "            \n",
    "    # Again set value manually by user's choice one by one as I did in e1\n",
    "    def setName(self,name):\n",
    "        self.name=name\n",
    "    def setId(self,id):\n",
    "        self.id=id\n",
    "    def setSalary(self,salary):\n",
    "        self.salary=salary\n",
    " \n",
    "     # Get Value\n",
    "    def getName(self):\n",
    "        return self.name\n",
    "    def getId(self):\n",
    "        return self.id\n",
    "    def getSalary(self):\n",
    "        return self.salary\n",
    "    \n",
    "    \n",
    "# Now\n",
    "e1=Employee()\n",
    "e2=Employee(\"Aman\",10,480000)\n",
    "\n",
    "e1.setName(\"Rahul\")\n",
    "e1.setId(11)\n",
    "e1.setSalary(500000)\n",
    "\n",
    "print(e1.getName(), e1.getId(), e1.getSalary())\n",
    "print(e2.getName(), e2.getId(), e2.getSalary())    \n",
    "            \n",
    "    \n",
    "    \n",
    "        "
   ]
  },
  {
   "cell_type": "code",
   "execution_count": null,
   "id": "fc477cc2-16c1-4aaa-9de7-7f1ec0f5ca9b",
   "metadata": {},
   "outputs": [],
   "source": []
  }
 ],
 "metadata": {
  "kernelspec": {
   "display_name": "Python 3 (ipykernel)",
   "language": "python",
   "name": "python3"
  },
  "language_info": {
   "codemirror_mode": {
    "name": "ipython",
    "version": 3
   },
   "file_extension": ".py",
   "mimetype": "text/x-python",
   "name": "python",
   "nbconvert_exporter": "python",
   "pygments_lexer": "ipython3",
   "version": "3.10.8"
  }
 },
 "nbformat": 4,
 "nbformat_minor": 5
}
