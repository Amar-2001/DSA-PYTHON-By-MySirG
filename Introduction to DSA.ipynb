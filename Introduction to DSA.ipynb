{
 "cells": [
  {
   "cell_type": "code",
   "execution_count": 3,
   "id": "317834fa-b0a6-43a1-ac71-37418350f24f",
   "metadata": {},
   "outputs": [],
   "source": [
    "# Why to learn DSA?\n",
    "# What is the importance of structureing data\n"
   ]
  },
  {
   "cell_type": "code",
   "execution_count": 2,
   "id": "88ddf764-d41a-4c02-8730-ec8ff968c4d4",
   "metadata": {},
   "outputs": [],
   "source": [
    "# Why to learn DSA?\n",
    "\n",
    "# 1.Rasie level of Pfrogramming\n",
    "# 2.Effiecient Programming\n",
    "# 3.Able to solve complex problems\n",
    "# 4.Campus Placement\n",
    "# 5.A-Grade company placement"
   ]
  },
  {
   "cell_type": "code",
   "execution_count": 5,
   "id": "31d45894-8e28-435f-81c5-ce31220e430c",
   "metadata": {},
   "outputs": [],
   "source": [
    "# What is the importance of structureing data?\n",
    "\n",
    "# to find a word from the dictionary\n",
    "# if not sorted whole day to find the 1 word\n",
    "\n",
    "# 1.Dictionary\n",
    "# 2.Map\n",
    "# 3.Ledger(dukan)\n",
    "\n",
    "# dictionary mein ink utna hi kharch hoga page utna hi lagega\n",
    "# but without arrangement data becomes complex and hard to find\n",
    "\n"
   ]
  },
  {
   "cell_type": "code",
   "execution_count": 6,
   "id": "ee11b47f-d965-4186-aa75-599211866631",
   "metadata": {},
   "outputs": [
    {
     "data": {
      "text/plain": [
       "5"
      ]
     },
     "execution_count": 6,
     "metadata": {},
     "output_type": "execute_result"
    }
   ],
   "source": [
    "# What is DSA?\n",
    "\n",
    "# Data Structure is a particular way of storing and organinzing\n",
    "# data in a computer so that it can be used efficiently."
   ]
  },
  {
   "cell_type": "code",
   "execution_count": null,
   "id": "521e0bc9-5abc-4ed7-8deb-a3b2a9ed2ce1",
   "metadata": {},
   "outputs": [],
   "source": [
    "# Where are data structures resides?\n",
    "\n",
    "# RAM "
   ]
  }
 ],
 "metadata": {
  "kernelspec": {
   "display_name": "Python 3 (ipykernel)",
   "language": "python",
   "name": "python3"
  },
  "language_info": {
   "codemirror_mode": {
    "name": "ipython",
    "version": 3
   },
   "file_extension": ".py",
   "mimetype": "text/x-python",
   "name": "python",
   "nbconvert_exporter": "python",
   "pygments_lexer": "ipython3",
   "version": "3.10.8"
  }
 },
 "nbformat": 4,
 "nbformat_minor": 5
}
