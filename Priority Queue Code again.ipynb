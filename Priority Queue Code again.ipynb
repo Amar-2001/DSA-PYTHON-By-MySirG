{
 "cells": [
  {
   "cell_type": "code",
   "execution_count": 1,
   "id": "0813bade-cae8-4c77-ac82-0613ebaf196b",
   "metadata": {},
   "outputs": [],
   "source": [
    "class Node:\n",
    "    def __init__(self,priority=None,item=None,next=None):\n",
    "        self.priority=priority\n",
    "        self.item=item\n",
    "        self.next=next\n",
    "\n",
    "class PriorityQueue:\n",
    "    def __init__(self):\n",
    "        self.start=None\n",
    "        self.item_count=0\n",
    "        \n",
    "    def push(self,data,priority):\n",
    "        n=Node(data,priority)\n",
    "        if not self.start or priority < self.start.priority:\n",
    "            n.next=self.start\n",
    "            self.start=n\n",
    "        else:\n",
    "            temp=self.start\n",
    "            while temp.next and temp.next.priority<= priority:\n",
    "                temp=temp.next\n",
    "            n.next=temp.next\n",
    "            temp.next=n\n",
    "            self.item_count+=1\n",
    "    \n",
    "    def is_empty(self):\n",
    "        # return self.item_count==0\n",
    "        return self.start==None\n",
    "    \n",
    "    def pop(self):\n",
    "        if self.is_empty():\n",
    "            return IndexError(\"Priority Queue is empty\")\n",
    "        else:\n",
    "            data=self.start.item\n",
    "            self.start=self.start.next\n",
    "            return data\n",
    "    \n",
    "    def size(self):\n",
    "        return self.item_count\n",
    "\n",
    "\n",
    "p1=PriorityQueue()\n",
    "p1.push(10,5)\n",
    "p1.push(12,2)\n",
    "p1.push(8,1)\n",
    "p1.push(9,3)\n",
    "p1.push(19,8)            \n",
    "        \n",
    "    "
   ]
  },
  {
   "cell_type": "code",
   "execution_count": 2,
   "id": "d9fd5285-0471-4234-aea1-6431178966d3",
   "metadata": {},
   "outputs": [
    {
     "data": {
      "text/plain": [
       "5"
      ]
     },
     "execution_count": 2,
     "metadata": {},
     "output_type": "execute_result"
    }
   ],
   "source": [
    "5"
   ]
  },
  {
   "cell_type": "code",
   "execution_count": null,
   "id": "3b8d25a7-e89b-4739-8902-fa698f090748",
   "metadata": {},
   "outputs": [],
   "source": []
  }
 ],
 "metadata": {
  "kernelspec": {
   "display_name": "Python 3 (ipykernel)",
   "language": "python",
   "name": "python3"
  },
  "language_info": {
   "codemirror_mode": {
    "name": "ipython",
    "version": 3
   },
   "file_extension": ".py",
   "mimetype": "text/x-python",
   "name": "python",
   "nbconvert_exporter": "python",
   "pygments_lexer": "ipython3",
   "version": "3.10.8"
  }
 },
 "nbformat": 4,
 "nbformat_minor": 5
}
