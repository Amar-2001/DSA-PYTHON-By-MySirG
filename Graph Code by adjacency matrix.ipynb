{
 "cells": [
  {
   "cell_type": "code",
   "execution_count": null,
   "id": "d5ccc732-6baf-49cd-a9c6-6f140eb631de",
   "metadata": {},
   "outputs": [],
   "source": []
  },
  {
   "cell_type": "code",
   "execution_count": 9,
   "id": "95c5eddd-342a-4d01-8067-dcbea5fdfb0f",
   "metadata": {},
   "outputs": [],
   "source": [
    "class Graph:\n",
    "    def __init__(self,vno):# vno means vertex Number\n",
    "        self.vertex_count=vno\n",
    "        self.adj_matrix=[[0]*5 for e in range(vno) ]# \"*\" repetation operator means if vno is 5 then \n",
    "                                                    # 5 row and after that for loop vno times means\n",
    "                                                    # 5*5 times means 5*5 size matrix 5 row,5 column\n"
   ]
  },
  {
   "cell_type": "code",
   "execution_count": 10,
   "id": "365a1718-3d29-48b7-acf9-85eeff1f566a",
   "metadata": {},
   "outputs": [
    {
     "data": {
      "text/plain": [
       "[[0, 0, 0, 0, 0],\n",
       " [0, 0, 0, 0, 0],\n",
       " [0, 0, 0, 0, 0],\n",
       " [0, 0, 0, 0, 0],\n",
       " [0, 0, 0, 0, 0]]"
      ]
     },
     "execution_count": 10,
     "metadata": {},
     "output_type": "execute_result"
    }
   ],
   "source": [
    "[[0]*5 for i in range(5)] # list comprehension "
   ]
  },
  {
   "cell_type": "code",
   "execution_count": 13,
   "id": "461914d0-5e9d-47b4-8f57-c37e97a1ccb2",
   "metadata": {},
   "outputs": [],
   "source": [
    "class Graph:\n",
    "    def __init__(self,vno):# vno means vertex Number\n",
    "        self.vertex_count=vno\n",
    "        self.adj_matrix=[[0]*5 for e in range(vno) ]# \"*\" repetation operator means if vno is 5 then \n",
    "                                                    # 5 row and after that for loop vno times means\n",
    "                                                    # 5*5 times means 5*5 size matrix 5 row,5 column\n",
    "    def add_edge(self,u,v,weight=1): # u starting edge, v=ending edge, weight= 1 if not weight value \n",
    "                                                # if weight value then then write weight value\n",
    "        if 0<=u<self.vertex_count and 0<=v<self.vertex_count: # u aur v dono 0 se badi ya barabar hogi\n",
    "                                                    # aur vertex_count se 1 chhoti ex 5 vetex then v0,v1,..v4\n",
    "            self.adj_matix[u][v]=weight  # [u][v] and also [v] [u] because v se u aur u se v ek hi rashta hai\n",
    "            self.adj_matrix[v][u]=weight  # ye directed graph nahi hai undirected hai means direction dono side hai\n",
    "        else:\n",
    "            print(\"Invalid vertex\") # matlab jo user ne vertex diya wo invalid hai\n",
    "            \n",
    "                "
   ]
  },
  {
   "cell_type": "code",
   "execution_count": 16,
   "id": "d3b39543-a98f-40ce-b95e-1e51432505e1",
   "metadata": {},
   "outputs": [],
   "source": [
    "class Graph:\n",
    "    def __init__(self,vno):# vno means vertex Number\n",
    "        self.vertex_count=vno\n",
    "        self.adj_matrix=[[0]*5 for e in range(vno) ]# \"*\" repetation operator means if vno is 5 then \n",
    "                                                    # 5 row and after that for loop vno times means\n",
    "                                                    # 5*5 times means 5*5 size matrix 5 row,5 column\n",
    "    def add_edge(self,u,v,weight=1): # u starting edge, v=ending edge, weight= 1 if not weight value \n",
    "                                                # if weight value then then write weight value\n",
    "        if 0<=u<self.vertex_count and 0<=v<self.vertex_count: # u aur v dono 0 se badi ya barabar hogi\n",
    "                                                    # aur vertex_count se 1 chhoti ex 5 vetex then v0,v1,..v4\n",
    "            self.adj_matix[u][v]=weight  # [u][v] and also [v] [u] because v se u aur u se v ek hi rashta hai\n",
    "            self.adj_matrix[v][u]=weight  # ye directed graph nahi hai undirected hai means direction dono side hai\n",
    "        else:\n",
    "            print(\"Invalid vertex\") # matlab jo user ne vertex diya wo invalid hai\n",
    "         \n",
    "    def remove_edge(self,u,v):\n",
    "        if 0<=u<self.vertex_count and 0<=v<vertex_count:\n",
    "            self.adj_matrix[u][v]=0\n",
    "            self.adj_matrix[v][u]=0\n",
    "        else:\n",
    "            print(\"Invalid vertex\")\n",
    "                "
   ]
  },
  {
   "cell_type": "code",
   "execution_count": 17,
   "id": "77b2be03-a77b-4ff9-8ea6-1307a924d6aa",
   "metadata": {},
   "outputs": [],
   "source": [
    "class Graph:\n",
    "    def __init__(self,vno):# vno means vertex Number\n",
    "        self.vertex_count=vno\n",
    "        self.adj_matrix=[[0]*5 for e in range(vno) ]# \"*\" repetation operator means if vno is 5 then \n",
    "                                                    # 5 row and after that for loop vno times means\n",
    "                                                    # 5*5 times means 5*5 size matrix 5 row,5 column\n",
    "    def add_edge(self,u,v,weight=1): # u starting edge, v=ending edge, weight= 1 if not weight value \n",
    "                                                # if weight value then then write weight value\n",
    "        if 0<=u<self.vertex_count and 0<=v<self.vertex_count: # u aur v dono 0 se badi ya barabar hogi\n",
    "                                                    # aur vertex_count se 1 chhoti ex 5 vetex then v0,v1,..v4\n",
    "            self.adj_matix[u][v]=weight  # [u][v] and also [v] [u] because v se u aur u se v ek hi rashta hai\n",
    "            self.adj_matrix[v][u]=weight  # ye directed graph nahi hai undirected hai means direction dono side hai\n",
    "        else:\n",
    "            print(\"Invalid vertex\") # matlab jo user ne vertex diya wo invalid hai\n",
    "         \n",
    "    def remove_edge(self,u,v):\n",
    "        if 0<=u<self.vertex_count and 0<=v<vertex_count:\n",
    "            self.adj_matrix[u][v]=0\n",
    "            self.adj_matrix[v][u]=0\n",
    "        else:\n",
    "            print(\"Invalid vertex\")\n",
    "            \n",
    "    def has_edge(self):\n",
    "        if 0<=u<self.vertex_count and 0<=v<self.vertex_count:\n",
    "            return self.adj_matrix[u][v]!=0     # return if matrix ke u and v (row and column) mein 0 nahi hai\n",
    "        else:\n",
    "            print(\"has not edge\")\n",
    "            "
   ]
  },
  {
   "cell_type": "code",
   "execution_count": 22,
   "id": "2987b051-a6f1-4bff-9a4e-6973c1bccb34",
   "metadata": {},
   "outputs": [
    {
     "name": "stdout",
     "output_type": "stream",
     "text": [
      "0 1 0 0 0\n",
      "1 0 1 1 0\n",
      "0 1 0 1 0\n",
      "0 1 1 0 1\n",
      "0 0 0 1 0\n"
     ]
    }
   ],
   "source": [
    "class Graph:\n",
    "    def __init__(self,vno):# vno means vertex Number\n",
    "        self.vertex_count=vno\n",
    "        self.adj_matrix=[[0]*5 for e in range(vno) ]# \"*\" repetation operator means if vno is 5 then \n",
    "                                                    # 5 row and after that for loop vno times means\n",
    "                                                    # 5*5 times means 5*5 size matrix 5 row,5 column\n",
    "    def add_edge(self,u,v,weight=1): # u starting edge, v=ending edge, weight= 1 if not weight value \n",
    "                                                # if weight value then then write weight value\n",
    "        if 0<=u<self.vertex_count and 0<=v<self.vertex_count: # u aur v dono 0 se badi ya barabar hogi\n",
    "                                                    # aur vertex_count se 1 chhoti ex 5 vetex then v0,v1,..v4\n",
    "            self.adj_matrix[u][v]=weight  # [u][v] and also [v] [u] because v se u aur u se v ek hi rashta hai\n",
    "            self.adj_matrix[v][u]=weight  # ye directed graph nahi hai undirected hai means direction dono side hai\n",
    "        else:\n",
    "            print(\"Invalid vertex\") # matlab jo user ne vertex diya wo invalid hai\n",
    "         \n",
    "    def remove_edge(self,u,v):\n",
    "        if 0<=u<self.vertex_count and 0<=v<vertex_count:\n",
    "            self.adj_matrix[u][v]=0\n",
    "            self.adj_matrix[v][u]=0\n",
    "        else:\n",
    "            print(\"Invalid vertex\")\n",
    "            \n",
    "    def has_edge(self):\n",
    "        if 0<=u<self.vertex_count and 0<=v<self.vertex_count:\n",
    "            return self.adj_matrix[u][v]!=0     # return if matrix ke u and v (row and column) mein 0 nahi hai\n",
    "        else:\n",
    "            print(\"has not edge\")\n",
    "            \n",
    "    def print_adj_matrix(self):\n",
    "        for row_list in self.adj_matrix:\n",
    "            print(\" \". join(map(str,row_list))) # map(convert) karega row_list ko string mein aur \n",
    "                                                # space dega (\" \".join() ) function ke dwara\n",
    "                \n",
    "g=Graph(5) # 5 size ka \n",
    "g.add_edge(0,1)\n",
    "g.add_edge(1,2)\n",
    "g.add_edge(1,3)\n",
    "g.add_edge(2,3)\n",
    "g.add_edge(3,4)\n",
    "\n",
    "g.print_adj_matrix() # True result checked in copy"
   ]
  },
  {
   "cell_type": "code",
   "execution_count": null,
   "id": "4774b7ec-61e0-4486-8d47-94c5351d38f2",
   "metadata": {},
   "outputs": [],
   "source": []
  }
 ],
 "metadata": {
  "kernelspec": {
   "display_name": "Python 3 (ipykernel)",
   "language": "python",
   "name": "python3"
  },
  "language_info": {
   "codemirror_mode": {
    "name": "ipython",
    "version": 3
   },
   "file_extension": ".py",
   "mimetype": "text/x-python",
   "name": "python",
   "nbconvert_exporter": "python",
   "pygments_lexer": "ipython3",
   "version": "3.10.8"
  }
 },
 "nbformat": 4,
 "nbformat_minor": 5
}
