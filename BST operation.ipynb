{
 "cells": [
  {
   "cell_type": "code",
   "execution_count": 2,
   "id": "99f9db5a-bdbf-48db-aa37-98f5dbc468e0",
   "metadata": {},
   "outputs": [],
   "source": [
    "# A binary search tree is the most important data structure that enables one to search and find the\n",
    "# element in average running time O(log(2,n)) \n",
    "# means log(2,8) means 2 ki power kya ho ki 8 ho jaye so 3 \n",
    "#       log(10,100)=2  means 10 ki kya ho ki 100 ho jaye\n",
    "#      .... log(2,n) =p means 2 ki power kya ho ki n ho jaye so \"p\" \n",
    "#            explaining 2^p = n \n",
    "#                      = 2^10= 1024  or 2^9=512 means to find 1000 values we have to comapare 9.8 comparison\n",
    "#                 very good algorithm\n",
    "\n",
    "# Duplicate values is not allowed in BST."
   ]
  },
  {
   "cell_type": "code",
   "execution_count": 3,
   "id": "782a1330-a1d2-493f-8ab2-5b50d804f75f",
   "metadata": {},
   "outputs": [],
   "source": [
    "# Binary search tree ke left side ke element chhote honge right side ke element bade honge."
   ]
  },
  {
   "cell_type": "code",
   "execution_count": null,
   "id": "eb157663-731c-4d0c-8353-a575310d772d",
   "metadata": {},
   "outputs": [],
   "source": []
  }
 ],
 "metadata": {
  "kernelspec": {
   "display_name": "Python 3 (ipykernel)",
   "language": "python",
   "name": "python3"
  },
  "language_info": {
   "codemirror_mode": {
    "name": "ipython",
    "version": 3
   },
   "file_extension": ".py",
   "mimetype": "text/x-python",
   "name": "python",
   "nbconvert_exporter": "python",
   "pygments_lexer": "ipython3",
   "version": "3.10.8"
  }
 },
 "nbformat": 4,
 "nbformat_minor": 5
}
