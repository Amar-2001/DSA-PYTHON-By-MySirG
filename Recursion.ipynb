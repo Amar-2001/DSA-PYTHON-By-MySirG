{
 "cells": [
  {
   "cell_type": "code",
   "execution_count": 11,
   "id": "6130a0c2-2cbb-487a-b5c6-1f6fc80ac8a7",
   "metadata": {},
   "outputs": [],
   "source": [
    "# Function calling itself is called Recursion.\n",
    "# We need 2 things \n",
    "# 1.Recursive Function :- where function calls its simpler version .\n",
    "# 2.Base Case := where function stops or return a last value to return\n",
    "\n",
    "# def f1\n",
    "    # f1() \n",
    "    \n",
    "# Here def f1: is recursive function"
   ]
  },
  {
   "cell_type": "code",
   "execution_count": 12,
   "id": "17ca4332-7c3d-4722-8de0-2a9752669574",
   "metadata": {},
   "outputs": [],
   "source": [
    "# # To solve a recursion problem  we need \n",
    "# 1.f1(n) =1+2+3+4+...+n\n",
    "# 2.f1(n-1)+n= 1+2+3+4+...+n-1 + n  means shorter version + n\n",
    "# 3.n==1 means Base case"
   ]
  },
  {
   "cell_type": "code",
   "execution_count": 13,
   "id": "a5d1e48f-7c0e-4c01-9107-bb210fc25eb3",
   "metadata": {},
   "outputs": [
    {
     "name": "stdout",
     "output_type": "stream",
     "text": [
      "6\n"
     ]
    }
   ],
   "source": [
    "def f1(n):\n",
    "    if n==1:   # stop condition\n",
    "        return 1 \n",
    "    s=n+f1(n-1) \n",
    "    return s\n",
    "\n",
    "r=f1(3)\n",
    "print(r)\n"
   ]
  },
  {
   "cell_type": "code",
   "execution_count": 14,
   "id": "1d32b200-260a-41fd-b056-c6f6a07cdace",
   "metadata": {},
   "outputs": [],
   "source": [
    "# f1(1)=1\n",
    "# f1(2)=1+2\n",
    "# f1(3)=1+2+3\n",
    "# f1(4)=1+2+3+4\n",
    "# f1(5)=1+2+3+4+5\n",
    "# .......\n",
    "\n",
    "\n",
    "# To solve this \n",
    "\n",
    "# f1(100)\n",
    "# 100+f1(99)\n",
    "# 99+f1(98)\n",
    "# 98+f1(97)\n",
    "# .\n",
    "# .\n",
    "# 4+f1(3)\n",
    "# 3+f1(2)\n",
    "# 2+f1(1) which is 2+1=3 # **** Now this will return 3 to 3+f1 and 3+f1(2) will return further to 4+f1(3) and so on.\n",
    "                        # till f1(100) is reached.\n",
    "    \n",
    "    # We need two things 1.REcursive case\n",
    "                         # 2. Base case\n",
    "        \n"
   ]
  },
  {
   "cell_type": "code",
   "execution_count": 15,
   "id": "237d9c35-9b29-4312-acc4-2c8ba3a41230",
   "metadata": {},
   "outputs": [],
   "source": [
    "# In recursion problems is solved according to terms of problem itself\n",
    "# 2. Each time recursive function calls to itself for a little simple version of the \n",
    "    # original version.\n",
    "    "
   ]
  },
  {
   "cell_type": "code",
   "execution_count": 16,
   "id": "d9fca200-8e7c-43c1-9ee2-472139bd7e47",
   "metadata": {},
   "outputs": [
    {
     "name": "stdout",
     "output_type": "stream",
     "text": [
      "15\n"
     ]
    }
   ],
   "source": [
    "# Write a recursive problem to solve sum of first n natural number\n",
    "\n",
    "def FirstNatural(n):\n",
    "    if n==1:\n",
    "        return 1\n",
    "    sum=n+FirstNatural(n-1)\n",
    "    return sum\n",
    "\n",
    "ans=FirstNatural(5)\n",
    "print(ans)\n"
   ]
  },
  {
   "cell_type": "code",
   "execution_count": null,
   "id": "1b382616-73f4-47cc-831c-511248b848c5",
   "metadata": {},
   "outputs": [],
   "source": []
  },
  {
   "cell_type": "code",
   "execution_count": null,
   "id": "e3d7e668-0a70-4298-bad5-7b1f0fb56b00",
   "metadata": {},
   "outputs": [],
   "source": []
  },
  {
   "cell_type": "code",
   "execution_count": 17,
   "id": "3faa4ef7-dd8b-4db0-ba55-b7c504e9698a",
   "metadata": {},
   "outputs": [
    {
     "data": {
      "text/plain": [
       "5"
      ]
     },
     "execution_count": 17,
     "metadata": {},
     "output_type": "execute_result"
    }
   ],
   "source": [
    "5"
   ]
  },
  {
   "cell_type": "code",
   "execution_count": null,
   "id": "6791b2ab-049d-4663-8730-1f3509406753",
   "metadata": {},
   "outputs": [],
   "source": []
  }
 ],
 "metadata": {
  "kernelspec": {
   "display_name": "Python 3 (ipykernel)",
   "language": "python",
   "name": "python3"
  },
  "language_info": {
   "codemirror_mode": {
    "name": "ipython",
    "version": 3
   },
   "file_extension": ".py",
   "mimetype": "text/x-python",
   "name": "python",
   "nbconvert_exporter": "python",
   "pygments_lexer": "ipython3",
   "version": "3.10.8"
  }
 },
 "nbformat": 4,
 "nbformat_minor": 5
}
