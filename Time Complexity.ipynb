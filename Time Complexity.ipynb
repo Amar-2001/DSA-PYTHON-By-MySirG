{
 "cells": [
  {
   "cell_type": "code",
   "execution_count": 3,
   "id": "04c74dab-0a3d-44e2-8256-bed692d202d6",
   "metadata": {},
   "outputs": [],
   "source": [
    "# Time Complexity :- It is the rate of change in time w.r.t change in input size.\n",
    "\n",
    "# Various algorithm is used to measure in various asymptotic notation\n",
    "\n",
    "# Asymptotic means :- Paas rehte huye bhi kabhi na milne wali stithi.\n",
    "                    # or It is used to analyze performance of algorithm in terms of input size\n",
    "    \n",
    "# There are 3 types of notation:-\n",
    "        # 1.Big Oh :-Worst case , upper bound c1*g(n)>=f(n) for all n>n0\n",
    "        # 2.Theta  :-Average case ,  0<=c1*g(n)<=f(n)<=c2*g(n) for all n>=n0\n",
    "        # 3.Omega  :-Best Case , lower bound , c*g(n)<=f(n) for all n>=n0\n",
    "        \n",
    "# Algorithm comparing := O(1) < O(logn) < O(n) < O(nlogn) < O(n^2) < O(n^2logn) < O(n^3) .. O(n^4)"
   ]
  },
  {
   "cell_type": "code",
   "execution_count": null,
   "id": "b5b37c7b-7c04-4f1d-90bf-2795246412a2",
   "metadata": {},
   "outputs": [],
   "source": []
  },
  {
   "cell_type": "code",
   "execution_count": null,
   "id": "990fe322-39e9-40d2-a7f9-4623ad9bf5a4",
   "metadata": {},
   "outputs": [],
   "source": []
  }
 ],
 "metadata": {
  "kernelspec": {
   "display_name": "Python 3 (ipykernel)",
   "language": "python",
   "name": "python3"
  },
  "language_info": {
   "codemirror_mode": {
    "name": "ipython",
    "version": 3
   },
   "file_extension": ".py",
   "mimetype": "text/x-python",
   "name": "python",
   "nbconvert_exporter": "python",
   "pygments_lexer": "ipython3",
   "version": "3.10.8"
  }
 },
 "nbformat": 4,
 "nbformat_minor": 5
}
