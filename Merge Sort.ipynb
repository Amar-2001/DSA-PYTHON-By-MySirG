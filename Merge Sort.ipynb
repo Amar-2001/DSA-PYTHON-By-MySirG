{
 "cells": [
  {
   "cell_type": "code",
   "execution_count": 4,
   "id": "a0c5fe1f-8240-4731-954e-4d73f33d0046",
   "metadata": {},
   "outputs": [
    {
     "name": "stdout",
     "output_type": "stream",
     "text": [
      "[5, 11, 15, 22, 88, 223]\n"
     ]
    }
   ],
   "source": [
    "def merge_sort(list1):\n",
    "    if len(list1)>1:\n",
    "        mid=len(list1)//2 # do hissa mein todo # also (start + end)//2\n",
    "        leftlist=list1[ :mid] # start se mid tak\n",
    "        rightlist=list1[mid: ] # mid  se last tak\n",
    "        \n",
    "        # Sort by recursive call\n",
    "        merge_sort(leftlist) # recursively calling taaki pura divide \n",
    "        merge_sort(rightlist) # hokar sort ho jaye left aur right list dono\n",
    "        \n",
    "        \n",
    "        # merge sorted(above) left list and right list\n",
    "        i=j=k=0 # i for (sorted)leftlist j for (sorted)right list and \n",
    "                # k for list1(jisme left aur right dono merge hokar aaye)\n",
    "        while i<len(leftlist) and j<len(rightlist):\n",
    "            if leftlist[i]<rightlist[j]:  # agar leftlist<rightlist then \n",
    "                list1[k]=leftlist[i]  # list1 mein leftlist aate jaaye\n",
    "                i+=1 # left list aate jaaye isliye increment\n",
    "            else: \n",
    "                list1[k]=rightlist[j] # nahi toh list1 mein rightlist aaye\n",
    "                j+=1 # right list aate jaye that's why increment\n",
    "            k+=1 # also k increment for both i and j that's why if block ke bahar hai \n",
    "        \n",
    "        # agar left list ya rightlist ke element khatam ho jaye toh wo \n",
    "        # is list mein store honge \n",
    "        \n",
    "        # agar pehli wali sub list bachi hogi tab\n",
    "        while i<len(leftlist):  # jab tak i leftlist ko pura element ko access na kar le\n",
    "            list1[k]=leftlist[i] # list1 mein leftlist aata jaye\n",
    "            i+=1 # aata jaaye leftlist\n",
    "            k+=1 # k store value of list1 so k mein bhi increment\n",
    "       \n",
    "        # agar dusri wali sub list bachi hai tab\n",
    "        while j<len(rightlist):\n",
    "            list1[k]=rightlist[j]\n",
    "            j+=1\n",
    "            k+=1\n",
    "        \n",
    "mylist=[11,22,5,223,88,15]\n",
    "merge_sort(mylist)\n",
    "print(mylist)\n",
    "            \n",
    "    "
   ]
  },
  {
   "cell_type": "code",
   "execution_count": null,
   "id": "993673f8-4252-4b75-894d-15a7e4459661",
   "metadata": {},
   "outputs": [],
   "source": []
  }
 ],
 "metadata": {
  "kernelspec": {
   "display_name": "Python 3 (ipykernel)",
   "language": "python",
   "name": "python3"
  },
  "language_info": {
   "codemirror_mode": {
    "name": "ipython",
    "version": 3
   },
   "file_extension": ".py",
   "mimetype": "text/x-python",
   "name": "python",
   "nbconvert_exporter": "python",
   "pygments_lexer": "ipython3",
   "version": "3.10.8"
  }
 },
 "nbformat": 4,
 "nbformat_minor": 5
}
