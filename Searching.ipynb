{
 "cells": [
  {
   "cell_type": "code",
   "execution_count": 1,
   "id": "a76c4783-638f-4568-bbdc-9f3a794523a4",
   "metadata": {},
   "outputs": [],
   "source": [
    "# Searching ki jarurat kisi element ko find, delete, update , etc karne ke liye hoti hai\n",
    "# Searching ke types:-\n",
    "    # 1.Linear Search\n",
    "    # 2.Binary Search\n",
    "    "
   ]
  },
  {
   "cell_type": "code",
   "execution_count": 19,
   "id": "9ed578cc-bee1-457b-9059-8992ef53f08a",
   "metadata": {},
   "outputs": [
    {
     "name": "stdout",
     "output_type": "stream",
     "text": [
      "4\n"
     ]
    }
   ],
   "source": [
    "# Linear search # Time ⌚ complexity = O(n)\n",
    "def func(list1):\n",
    "    for e in list1:\n",
    "        item=25\n",
    "        if e==item:\n",
    "            return list1.index(e)\n",
    "        # else:\n",
    "    return None  # Doubt why it return None agar else ke bady ke andar rakhte toh\n",
    "\n",
    "list1=[11,3,52,23,25,9,99]\n",
    "print(func(list1))"
   ]
  },
  {
   "cell_type": "code",
   "execution_count": 31,
   "id": "d79a9aae-c150-4323-9b54-90ee1e728d3d",
   "metadata": {},
   "outputs": [
    {
     "name": "stdout",
     "output_type": "stream",
     "text": [
      "[3, 9, 11, 23, 25, 52, 99]\n",
      "Element found at index  5\n"
     ]
    }
   ],
   "source": [
    "# Binary Search by Iteration\n",
    "\n",
    "def BinarySearch(list1,l,u,item):\n",
    "    list1.sort()\n",
    "    print(list1)\n",
    "    mid=0\n",
    "    while(l<=u):\n",
    "        mid = (l+u)//2\n",
    "        \n",
    "        if item == list1[mid]:\n",
    "            return mid\n",
    "        elif item < list1[mid] :\n",
    "            u=mid-1\n",
    "                \n",
    "        else:\n",
    "            l=mid+1\n",
    "    return None\n",
    "            \n",
    "    \n",
    "\n",
    "list1=[11,3,52,23,25,9,99]\n",
    "print(\"Element found at index \", BinarySearch(list1,0,len(list1), 52) )\n"
   ]
  },
  {
   "cell_type": "code",
   "execution_count": 38,
   "id": "85e77080-8d8a-4c49-a9a8-eefa0a75047a",
   "metadata": {},
   "outputs": [
    {
     "name": "stdout",
     "output_type": "stream",
     "text": [
      "[2, 3, 5, 11, 22, 22, 55]\n",
      "3\n"
     ]
    }
   ],
   "source": [
    "# Binary Search by Recursion\n",
    "\n",
    "def BinarySearch(list1,l,u,item):\n",
    "    list1.sort()\n",
    "    print(list1)\n",
    "    while(l<=u):\n",
    "        mid = (l+u)//2\n",
    "        if item == list1[mid]:\n",
    "            return mid\n",
    "        elif item< list1[mid]:\n",
    "            return BinarySearch(list1,l,mid-1,item)\n",
    "        else:\n",
    "            return BinarySearch(list1,mid+1,u,item)\n",
    "    return None \n",
    "\n",
    "list1=[11,22,3,5,2,22,55]\n",
    "print(\"BinarySearch(list1,0,len(list1)-1,11) )\n",
    "            "
   ]
  },
  {
   "cell_type": "code",
   "execution_count": null,
   "id": "617142e1-ef95-44a8-9940-f32951877f3c",
   "metadata": {},
   "outputs": [],
   "source": []
  }
 ],
 "metadata": {
  "kernelspec": {
   "display_name": "Python 3 (ipykernel)",
   "language": "python",
   "name": "python3"
  },
  "language_info": {
   "codemirror_mode": {
    "name": "ipython",
    "version": 3
   },
   "file_extension": ".py",
   "mimetype": "text/x-python",
   "name": "python",
   "nbconvert_exporter": "python",
   "pygments_lexer": "ipython3",
   "version": "3.10.8"
  }
 },
 "nbformat": 4,
 "nbformat_minor": 5
}
